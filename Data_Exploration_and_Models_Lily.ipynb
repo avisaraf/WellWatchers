{
 "cells": [
  {
   "cell_type": "markdown",
   "metadata": {},
   "source": [
    "# Predicting the Status of Wells Across Tanzania\n",
    "\n",
    "Exploration done by WellWatchers Avi Saraf, Lily Zhang, and Cindy Zhao."
   ]
  },
  {
   "cell_type": "code",
   "execution_count": 2,
   "metadata": {
    "collapsed": false
   },
   "outputs": [
    {
     "name": "stderr",
     "output_type": "stream",
     "text": [
      "/Users/lilyzhang/anaconda/lib/python2.7/site-packages/matplotlib/__init__.py:872: UserWarning: axes.color_cycle is deprecated and replaced with axes.prop_cycle; please use the latter.\n",
      "  warnings.warn(self.msg_depr % (key, alt_key))\n"
     ]
    }
   ],
   "source": [
    "import pandas as pd\n",
    "import numpy as np\n",
    "import matplotlib.pyplot as plt\n",
    "%matplotlib inline\n",
    "import seaborn as sns\n",
    "sns.set_style(\"whitegrid\")\n",
    "sns.set_context(\"poster\")\n",
    "\n",
    "from sklearn.linear_model import LogisticRegression\n",
    "from sklearn.grid_search import GridSearchCV\n"
   ]
  },
  {
   "cell_type": "markdown",
   "metadata": {},
   "source": [
    "###Data preparation"
   ]
  },
  {
   "cell_type": "code",
   "execution_count": 3,
   "metadata": {
    "collapsed": true
   },
   "outputs": [],
   "source": [
    "df_values = pd.read_csv(\"clean_training_set_values.csv\")\n",
    "df_labels = pd.read_csv(\"training_set_labels.csv\")"
   ]
  },
  {
   "cell_type": "code",
   "execution_count": 4,
   "metadata": {
    "collapsed": true
   },
   "outputs": [],
   "source": [
    "#merge the features (i.e. values) and the labels into one DataFrame\n",
    "df = pd.merge(df_values, df_labels, on=\"id\")"
   ]
  },
  {
   "cell_type": "code",
   "execution_count": 27,
   "metadata": {
    "collapsed": false
   },
   "outputs": [
    {
     "data": {
      "text/html": [
       "<div>\n",
       "<table border=\"1\" class=\"dataframe\">\n",
       "  <thead>\n",
       "    <tr style=\"text-align: right;\">\n",
       "      <th></th>\n",
       "      <th>id</th>\n",
       "      <th>amount_tsh</th>\n",
       "      <th>funder</th>\n",
       "      <th>gps_height</th>\n",
       "      <th>installer</th>\n",
       "      <th>longitude</th>\n",
       "      <th>latitude</th>\n",
       "      <th>basin</th>\n",
       "      <th>subvillage</th>\n",
       "      <th>region</th>\n",
       "      <th>...</th>\n",
       "      <th>quantity</th>\n",
       "      <th>quantity_group</th>\n",
       "      <th>source</th>\n",
       "      <th>source_type</th>\n",
       "      <th>source_class</th>\n",
       "      <th>waterpoint_type</th>\n",
       "      <th>waterpoint_type_group</th>\n",
       "      <th>date_recorded_offset_days</th>\n",
       "      <th>date_recorded_month</th>\n",
       "      <th>status_group</th>\n",
       "    </tr>\n",
       "  </thead>\n",
       "  <tbody>\n",
       "    <tr>\n",
       "      <th>0</th>\n",
       "      <td>69572</td>\n",
       "      <td>6000</td>\n",
       "      <td>Other</td>\n",
       "      <td>1390</td>\n",
       "      <td>Other</td>\n",
       "      <td>34.938093</td>\n",
       "      <td>-9.856322</td>\n",
       "      <td>Lake Nyasa</td>\n",
       "      <td>Mnyusi B</td>\n",
       "      <td>Iringa</td>\n",
       "      <td>...</td>\n",
       "      <td>enough</td>\n",
       "      <td>enough</td>\n",
       "      <td>spring</td>\n",
       "      <td>spring</td>\n",
       "      <td>groundwater</td>\n",
       "      <td>communal standpipe</td>\n",
       "      <td>communal standpipe</td>\n",
       "      <td>1024</td>\n",
       "      <td>Mar</td>\n",
       "      <td>functional</td>\n",
       "    </tr>\n",
       "    <tr>\n",
       "      <th>1</th>\n",
       "      <td>8776</td>\n",
       "      <td>0</td>\n",
       "      <td>Other</td>\n",
       "      <td>1399</td>\n",
       "      <td>Other</td>\n",
       "      <td>34.698766</td>\n",
       "      <td>-2.147466</td>\n",
       "      <td>Lake Victoria</td>\n",
       "      <td>Nyamara</td>\n",
       "      <td>Mara</td>\n",
       "      <td>...</td>\n",
       "      <td>insufficient</td>\n",
       "      <td>insufficient</td>\n",
       "      <td>rainwater harvesting</td>\n",
       "      <td>rainwater harvesting</td>\n",
       "      <td>surface</td>\n",
       "      <td>communal standpipe</td>\n",
       "      <td>communal standpipe</td>\n",
       "      <td>301</td>\n",
       "      <td>Mar</td>\n",
       "      <td>functional</td>\n",
       "    </tr>\n",
       "    <tr>\n",
       "      <th>2</th>\n",
       "      <td>34310</td>\n",
       "      <td>25</td>\n",
       "      <td>Other</td>\n",
       "      <td>686</td>\n",
       "      <td>Other</td>\n",
       "      <td>37.460664</td>\n",
       "      <td>-3.821329</td>\n",
       "      <td>Pangani</td>\n",
       "      <td>Majengo</td>\n",
       "      <td>Manyara</td>\n",
       "      <td>...</td>\n",
       "      <td>enough</td>\n",
       "      <td>enough</td>\n",
       "      <td>dam</td>\n",
       "      <td>dam</td>\n",
       "      <td>surface</td>\n",
       "      <td>communal standpipe multiple</td>\n",
       "      <td>communal standpipe</td>\n",
       "      <td>310</td>\n",
       "      <td>Feb</td>\n",
       "      <td>functional</td>\n",
       "    </tr>\n",
       "    <tr>\n",
       "      <th>3</th>\n",
       "      <td>67743</td>\n",
       "      <td>0</td>\n",
       "      <td>Unicef</td>\n",
       "      <td>263</td>\n",
       "      <td>Other</td>\n",
       "      <td>38.486161</td>\n",
       "      <td>-11.155298</td>\n",
       "      <td>Ruvuma / Southern Coast</td>\n",
       "      <td>Mahakamani</td>\n",
       "      <td>Mtwara</td>\n",
       "      <td>...</td>\n",
       "      <td>dry</td>\n",
       "      <td>dry</td>\n",
       "      <td>machine dbh</td>\n",
       "      <td>borehole</td>\n",
       "      <td>groundwater</td>\n",
       "      <td>communal standpipe multiple</td>\n",
       "      <td>communal standpipe</td>\n",
       "      <td>338</td>\n",
       "      <td>Jan</td>\n",
       "      <td>non functional</td>\n",
       "    </tr>\n",
       "    <tr>\n",
       "      <th>4</th>\n",
       "      <td>19728</td>\n",
       "      <td>0</td>\n",
       "      <td>Other</td>\n",
       "      <td>0</td>\n",
       "      <td>Other</td>\n",
       "      <td>31.130847</td>\n",
       "      <td>-1.825359</td>\n",
       "      <td>Lake Victoria</td>\n",
       "      <td>Kyanyamisa</td>\n",
       "      <td>Kagera</td>\n",
       "      <td>...</td>\n",
       "      <td>seasonal</td>\n",
       "      <td>seasonal</td>\n",
       "      <td>rainwater harvesting</td>\n",
       "      <td>rainwater harvesting</td>\n",
       "      <td>surface</td>\n",
       "      <td>communal standpipe</td>\n",
       "      <td>communal standpipe</td>\n",
       "      <td>903</td>\n",
       "      <td>Jul</td>\n",
       "      <td>functional</td>\n",
       "    </tr>\n",
       "  </tbody>\n",
       "</table>\n",
       "<p>5 rows × 34 columns</p>\n",
       "</div>"
      ],
      "text/plain": [
       "      id  amount_tsh  funder  gps_height installer  longitude   latitude  \\\n",
       "0  69572        6000   Other        1390     Other  34.938093  -9.856322   \n",
       "1   8776           0   Other        1399     Other  34.698766  -2.147466   \n",
       "2  34310          25   Other         686     Other  37.460664  -3.821329   \n",
       "3  67743           0  Unicef         263     Other  38.486161 -11.155298   \n",
       "4  19728           0   Other           0     Other  31.130847  -1.825359   \n",
       "\n",
       "                     basin  subvillage   region       ...            quantity  \\\n",
       "0               Lake Nyasa    Mnyusi B   Iringa       ...              enough   \n",
       "1            Lake Victoria     Nyamara     Mara       ...        insufficient   \n",
       "2                  Pangani     Majengo  Manyara       ...              enough   \n",
       "3  Ruvuma / Southern Coast  Mahakamani   Mtwara       ...                 dry   \n",
       "4            Lake Victoria  Kyanyamisa   Kagera       ...            seasonal   \n",
       "\n",
       "  quantity_group                source           source_type source_class  \\\n",
       "0         enough                spring                spring  groundwater   \n",
       "1   insufficient  rainwater harvesting  rainwater harvesting      surface   \n",
       "2         enough                   dam                   dam      surface   \n",
       "3            dry           machine dbh              borehole  groundwater   \n",
       "4       seasonal  rainwater harvesting  rainwater harvesting      surface   \n",
       "\n",
       "               waterpoint_type waterpoint_type_group  \\\n",
       "0           communal standpipe    communal standpipe   \n",
       "1           communal standpipe    communal standpipe   \n",
       "2  communal standpipe multiple    communal standpipe   \n",
       "3  communal standpipe multiple    communal standpipe   \n",
       "4           communal standpipe    communal standpipe   \n",
       "\n",
       "  date_recorded_offset_days date_recorded_month    status_group  \n",
       "0                      1024                 Mar      functional  \n",
       "1                       301                 Mar      functional  \n",
       "2                       310                 Feb      functional  \n",
       "3                       338                 Jan  non functional  \n",
       "4                       903                 Jul      functional  \n",
       "\n",
       "[5 rows x 34 columns]"
      ]
     },
     "execution_count": 27,
     "metadata": {},
     "output_type": "execute_result"
    }
   ],
   "source": [
    "df.head()"
   ]
  },
  {
   "cell_type": "markdown",
   "metadata": {},
   "source": [
    "#Exploratory analysis\n",
    "\n",
    "##Categorical Features\n",
    "\n",
    "We have the following categorical variables:\n",
    "- funder\n",
    "- installer\n",
    "- basin\n",
    "- subvillage\n",
    "- region\n",
    "- scheme_management\n",
    "- management\n",
    "- management_group\n",
    "- public_meeting (T/F)\n",
    "- permit (T/F)\n",
    "- extraction_type\n",
    "- extraction_type_group\n",
    "- extraction_type_class\n",
    "- payment\n",
    "- payment_type\n",
    "- water_quality\n",
    "- quality_group\n",
    "- waterpoint_type\n",
    "- waterpoint_type_group\n",
    "\n",
    "Here we see the unique values under the columns with categorical values."
   ]
  },
  {
   "cell_type": "markdown",
   "metadata": {},
   "source": [
    "###Redundancies\n",
    "We see that some of the columns describe the same feature but have slightly different sets of values. This is particularly the case with features that also have a corresponding '_ _group_' column as well. For now, we will stick with the non-gropu features because they are more specific."
   ]
  },
  {
   "cell_type": "code",
   "execution_count": 5,
   "metadata": {
    "collapsed": false
   },
   "outputs": [
    {
     "name": "stdout",
     "output_type": "stream",
     "text": [
      "['gravity' 'submersible' 'swn 80' 'nira/tanira' 'india mark ii' 'other'\n",
      " 'ksb' 'mono' 'windmill' 'afridev' 'other - rope pump' 'india mark iii'\n",
      " 'other - swn 81' 'other - play pump' 'cemo' 'climax' 'walimi']\n",
      "['gravity' 'submersible' 'swn 80' 'nira/tanira' 'india mark ii' 'other'\n",
      " 'mono' 'wind-powered' 'afridev' 'rope pump' 'india mark iii'\n",
      " 'other handpump' 'other motorpump']\n",
      "['gravity' 'submersible' 'handpump' 'other' 'motorpump' 'wind-powered'\n",
      " 'rope pump']\n"
     ]
    }
   ],
   "source": [
    "print pd.Series(df.extraction_type.ravel()).unique()\n",
    "#less specific\n",
    "print pd.Series(df.extraction_type_group.ravel()).unique()\n",
    "print pd.Series(df.extraction_type_class.ravel()).unique()"
   ]
  },
  {
   "cell_type": "code",
   "execution_count": 6,
   "metadata": {
    "collapsed": false
   },
   "outputs": [
    {
     "name": "stdout",
     "output_type": "stream",
     "text": [
      "['pay annually' 'never pay' 'pay per bucket' 'unknown'\n",
      " 'pay when scheme fails' 'other' 'pay monthly']\n",
      "['annually' 'never pay' 'per bucket' 'unknown' 'on failure' 'other'\n",
      " 'monthly']\n"
     ]
    }
   ],
   "source": [
    "#equivalent\n",
    "print pd.Series(df.payment.ravel()).unique()\n",
    "print pd.Series(df.payment_type.ravel()).unique()"
   ]
  },
  {
   "cell_type": "code",
   "execution_count": 7,
   "metadata": {
    "collapsed": false
   },
   "outputs": [
    {
     "name": "stdout",
     "output_type": "stream",
     "text": [
      "['communal standpipe' 'communal standpipe multiple' 'hand pump' 'other'\n",
      " 'improved spring' 'cattle trough' 'dam']\n",
      "['communal standpipe' 'hand pump' 'other' 'improved spring' 'cattle trough'\n",
      " 'dam']\n"
     ]
    }
   ],
   "source": [
    "#the difference here is the addition of 'communal standpipe multiple' in waterpoint_type\n",
    "print pd.Series(df.waterpoint_type.ravel()).unique()\n",
    "#less specific\n",
    "print pd.Series(df.waterpoint_type_group.ravel()).unique()"
   ]
  },
  {
   "cell_type": "code",
   "execution_count": 8,
   "metadata": {
    "collapsed": false
   },
   "outputs": [
    {
     "name": "stdout",
     "output_type": "stream",
     "text": [
      "['soft' 'salty' 'milky' 'unknown' 'fluoride' 'coloured' 'salty abandoned'\n",
      " 'fluoride abandoned']\n",
      "['good' 'salty' 'milky' 'unknown' 'fluoride' 'colored']\n"
     ]
    }
   ],
   "source": [
    "print pd.Series(df.water_quality.ravel()).unique()\n",
    "#less specific\n",
    "print pd.Series(df.quality_group.ravel()).unique()"
   ]
  },
  {
   "cell_type": "code",
   "execution_count": 9,
   "metadata": {
    "collapsed": false
   },
   "outputs": [
    {
     "name": "stdout",
     "output_type": "stream",
     "text": [
      "['spring' 'rainwater harvesting' 'dam' 'borehole' 'other' 'shallow well'\n",
      " 'river/lake']\n",
      "['spring' 'rainwater harvesting' 'dam' 'machine dbh' 'other' 'shallow well'\n",
      " 'river' 'hand dtw' 'lake' 'unknown']\n",
      "['groundwater' 'surface' 'unknown']\n"
     ]
    }
   ],
   "source": [
    "#less specific\n",
    "#'borehole' includes 'machine dbh' and 'hand dtw'\n",
    "#'river/lake' includes 'river' and 'lake'\n",
    "#'other' includes 'other' and 'unknown'\n",
    "print pd.Series(df.source_type.ravel()).unique()\n",
    "print pd.Series(df.source.values.ravel()).unique()\n",
    "#source and source_type are nested within source_class\n",
    "print pd.Series(df.source_class.values.ravel()).unique()"
   ]
  },
  {
   "cell_type": "code",
   "execution_count": 10,
   "metadata": {
    "collapsed": false
   },
   "outputs": [
    {
     "name": "stdout",
     "output_type": "stream",
     "text": [
      "['vwc' 'wug' 'other' 'private operator' 'water board' 'wua' 'company'\n",
      " 'water authority' 'parastatal' 'unknown' 'other - school' 'trust']\n",
      "['user-group' 'other' 'commercial' 'parastatal' 'unknown']\n"
     ]
    }
   ],
   "source": [
    "#management is nested within management_group\n",
    "print pd.Series(df.management.ravel()).unique()\n",
    "print pd.Series(df.management_group.ravel()).unique()"
   ]
  },
  {
   "cell_type": "markdown",
   "metadata": {},
   "source": [
    "We see that some of these features are redundant, so we delete one of the columns of these repeats. Regarding the features/feature_group label pairs, there is a nesting structure but it is so slight that we just delete one of the columns; otherwise, we would most likely run into problems of collinearity. We have two new dataframes, one with only the feature_group labels (less specific), and one with only the feature labels (more specific). We will try our regression on the less specific df_new first but keep df_new1 just in case."
   ]
  },
  {
   "cell_type": "code",
   "execution_count": 5,
   "metadata": {
    "collapsed": false
   },
   "outputs": [],
   "source": [
    "df_new1 = df.drop(['quantity_group','extraction_type_group','waterpoint_type_group','quality_group','source_type','payment', 'construction_year','latitude','longitude', 'subvillage','id'], axis=1)\n",
    "df_new = df.drop(['quantity_group','extraction_type','waterpoint_type','quality_group','source','payment', 'construction_year','latitude','longitude','subvillage','id'], axis=1)"
   ]
  },
  {
   "cell_type": "code",
   "execution_count": 27,
   "metadata": {
    "collapsed": false,
    "scrolled": true
   },
   "outputs": [
    {
     "data": {
      "text/html": [
       "<div>\n",
       "<table border=\"1\" class=\"dataframe\">\n",
       "  <thead>\n",
       "    <tr style=\"text-align: right;\">\n",
       "      <th></th>\n",
       "      <th>amount_tsh</th>\n",
       "      <th>funder</th>\n",
       "      <th>gps_height</th>\n",
       "      <th>installer</th>\n",
       "      <th>basin</th>\n",
       "      <th>region</th>\n",
       "      <th>population</th>\n",
       "      <th>public_meeting</th>\n",
       "      <th>scheme_management</th>\n",
       "      <th>permit</th>\n",
       "      <th>...</th>\n",
       "      <th>management_group</th>\n",
       "      <th>payment_type</th>\n",
       "      <th>water_quality</th>\n",
       "      <th>quantity</th>\n",
       "      <th>source_type</th>\n",
       "      <th>source_class</th>\n",
       "      <th>waterpoint_type_group</th>\n",
       "      <th>date_recorded_offset_days</th>\n",
       "      <th>date_recorded_month</th>\n",
       "      <th>status_group</th>\n",
       "    </tr>\n",
       "  </thead>\n",
       "  <tbody>\n",
       "    <tr>\n",
       "      <th>0</th>\n",
       "      <td>6000</td>\n",
       "      <td>Other</td>\n",
       "      <td>1390</td>\n",
       "      <td>Other</td>\n",
       "      <td>Lake Nyasa</td>\n",
       "      <td>Iringa</td>\n",
       "      <td>109</td>\n",
       "      <td>True</td>\n",
       "      <td>VWC</td>\n",
       "      <td>False</td>\n",
       "      <td>...</td>\n",
       "      <td>user-group</td>\n",
       "      <td>annually</td>\n",
       "      <td>soft</td>\n",
       "      <td>enough</td>\n",
       "      <td>spring</td>\n",
       "      <td>groundwater</td>\n",
       "      <td>communal standpipe</td>\n",
       "      <td>1024</td>\n",
       "      <td>Mar</td>\n",
       "      <td>functional</td>\n",
       "    </tr>\n",
       "    <tr>\n",
       "      <th>1</th>\n",
       "      <td>0</td>\n",
       "      <td>Other</td>\n",
       "      <td>1399</td>\n",
       "      <td>Other</td>\n",
       "      <td>Lake Victoria</td>\n",
       "      <td>Mara</td>\n",
       "      <td>280</td>\n",
       "      <td>NaN</td>\n",
       "      <td>Other</td>\n",
       "      <td>True</td>\n",
       "      <td>...</td>\n",
       "      <td>user-group</td>\n",
       "      <td>never pay</td>\n",
       "      <td>soft</td>\n",
       "      <td>insufficient</td>\n",
       "      <td>rainwater harvesting</td>\n",
       "      <td>surface</td>\n",
       "      <td>communal standpipe</td>\n",
       "      <td>301</td>\n",
       "      <td>Mar</td>\n",
       "      <td>functional</td>\n",
       "    </tr>\n",
       "    <tr>\n",
       "      <th>2</th>\n",
       "      <td>25</td>\n",
       "      <td>Other</td>\n",
       "      <td>686</td>\n",
       "      <td>Other</td>\n",
       "      <td>Pangani</td>\n",
       "      <td>Manyara</td>\n",
       "      <td>250</td>\n",
       "      <td>True</td>\n",
       "      <td>VWC</td>\n",
       "      <td>True</td>\n",
       "      <td>...</td>\n",
       "      <td>user-group</td>\n",
       "      <td>per bucket</td>\n",
       "      <td>soft</td>\n",
       "      <td>enough</td>\n",
       "      <td>dam</td>\n",
       "      <td>surface</td>\n",
       "      <td>communal standpipe</td>\n",
       "      <td>310</td>\n",
       "      <td>Feb</td>\n",
       "      <td>functional</td>\n",
       "    </tr>\n",
       "    <tr>\n",
       "      <th>3</th>\n",
       "      <td>0</td>\n",
       "      <td>Unicef</td>\n",
       "      <td>263</td>\n",
       "      <td>Other</td>\n",
       "      <td>Ruvuma / Southern Coast</td>\n",
       "      <td>Mtwara</td>\n",
       "      <td>58</td>\n",
       "      <td>True</td>\n",
       "      <td>VWC</td>\n",
       "      <td>True</td>\n",
       "      <td>...</td>\n",
       "      <td>user-group</td>\n",
       "      <td>never pay</td>\n",
       "      <td>soft</td>\n",
       "      <td>dry</td>\n",
       "      <td>borehole</td>\n",
       "      <td>groundwater</td>\n",
       "      <td>communal standpipe</td>\n",
       "      <td>338</td>\n",
       "      <td>Jan</td>\n",
       "      <td>non functional</td>\n",
       "    </tr>\n",
       "    <tr>\n",
       "      <th>4</th>\n",
       "      <td>0</td>\n",
       "      <td>Other</td>\n",
       "      <td>0</td>\n",
       "      <td>Other</td>\n",
       "      <td>Lake Victoria</td>\n",
       "      <td>Kagera</td>\n",
       "      <td>0</td>\n",
       "      <td>True</td>\n",
       "      <td>NaN</td>\n",
       "      <td>True</td>\n",
       "      <td>...</td>\n",
       "      <td>other</td>\n",
       "      <td>never pay</td>\n",
       "      <td>soft</td>\n",
       "      <td>seasonal</td>\n",
       "      <td>rainwater harvesting</td>\n",
       "      <td>surface</td>\n",
       "      <td>communal standpipe</td>\n",
       "      <td>903</td>\n",
       "      <td>Jul</td>\n",
       "      <td>functional</td>\n",
       "    </tr>\n",
       "  </tbody>\n",
       "</table>\n",
       "<p>5 rows × 23 columns</p>\n",
       "</div>"
      ],
      "text/plain": [
       "   amount_tsh  funder  gps_height installer                    basin   region  \\\n",
       "0        6000   Other        1390     Other               Lake Nyasa   Iringa   \n",
       "1           0   Other        1399     Other            Lake Victoria     Mara   \n",
       "2          25   Other         686     Other                  Pangani  Manyara   \n",
       "3           0  Unicef         263     Other  Ruvuma / Southern Coast   Mtwara   \n",
       "4           0   Other           0     Other            Lake Victoria   Kagera   \n",
       "\n",
       "   population public_meeting scheme_management permit       ...        \\\n",
       "0         109           True               VWC  False       ...         \n",
       "1         280            NaN             Other   True       ...         \n",
       "2         250           True               VWC   True       ...         \n",
       "3          58           True               VWC   True       ...         \n",
       "4           0           True               NaN   True       ...         \n",
       "\n",
       "  management_group payment_type water_quality      quantity  \\\n",
       "0       user-group     annually          soft        enough   \n",
       "1       user-group    never pay          soft  insufficient   \n",
       "2       user-group   per bucket          soft        enough   \n",
       "3       user-group    never pay          soft           dry   \n",
       "4            other    never pay          soft      seasonal   \n",
       "\n",
       "            source_type source_class waterpoint_type_group  \\\n",
       "0                spring  groundwater    communal standpipe   \n",
       "1  rainwater harvesting      surface    communal standpipe   \n",
       "2                   dam      surface    communal standpipe   \n",
       "3              borehole  groundwater    communal standpipe   \n",
       "4  rainwater harvesting      surface    communal standpipe   \n",
       "\n",
       "  date_recorded_offset_days date_recorded_month    status_group  \n",
       "0                      1024                 Mar      functional  \n",
       "1                       301                 Mar      functional  \n",
       "2                       310                 Feb      functional  \n",
       "3                       338                 Jan  non functional  \n",
       "4                       903                 Jul      functional  \n",
       "\n",
       "[5 rows x 23 columns]"
      ]
     },
     "execution_count": 27,
     "metadata": {},
     "output_type": "execute_result"
    }
   ],
   "source": [
    "df_new.head()"
   ]
  },
  {
   "cell_type": "markdown",
   "metadata": {},
   "source": [
    "###Nestings\n",
    "\n",
    "In df_new, we know that:\n",
    "- management is nested within management_group\n",
    "- source is nested within source_class\n",
    "- extraction is nested within extraction_type_class\n",
    "- subvillage is nested within region"
   ]
  },
  {
   "cell_type": "markdown",
   "metadata": {},
   "source": [
    "###Grouping the types of categorical variables\n",
    "The features dealing with the management of the well include:\n",
    "- funder\n",
    "- installer\n",
    "- scheme_management\n",
    "- management/management_group\n",
    "- payment_type\n",
    "- permit (T/F)\n",
    "\n",
    "The features dealing with the creation of the well include:\n",
    "- extraction/extraction_type_class\n",
    "- waterpoint_type\n",
    "\n",
    "The features dealing with time include: \n",
    "- construction_year\n",
    "- date_recorded_offset_days (int; how long ago it was constructed, from the date recorded)\n",
    "- date_recorded_month\n",
    "\n",
    "The features dealing with natural properties include:\n",
    "- water_quality\n",
    "- source/source_class\n",
    "- amount_tsh\n",
    "- quantity\n",
    "- basin\n",
    "\n",
    "The features dealing with the community using the well and location include:\n",
    "- subvillage\n",
    "- region\n",
    "- population\n",
    "- public_meeting (T/F)\n",
    "- gps_height\n",
    "- longitude\n",
    "- latitude"
   ]
  },
  {
   "cell_type": "code",
   "execution_count": 9,
   "metadata": {
    "collapsed": false,
    "scrolled": true
   },
   "outputs": [
    {
     "data": {
      "text/plain": [
       "Index([u'amount_tsh', u'funder', u'gps_height', u'installer', u'basin',\n",
       "       u'subvillage', u'region', u'population', u'public_meeting',\n",
       "       u'scheme_management', u'permit', u'extraction_type_group',\n",
       "       u'extraction_type_class', u'management', u'management_group',\n",
       "       u'payment_type', u'water_quality', u'quantity', u'source_type',\n",
       "       u'source_class', u'waterpoint_type_group', u'date_recorded_offset_days',\n",
       "       u'date_recorded_month', u'status_group'],\n",
       "      dtype='object')"
      ]
     },
     "execution_count": 9,
     "metadata": {},
     "output_type": "execute_result"
    }
   ],
   "source": [
    "df_new.columns"
   ]
  },
  {
   "cell_type": "markdown",
   "metadata": {},
   "source": [
    "##Splitting the training and testing data\n"
   ]
  },
  {
   "cell_type": "code",
   "execution_count": 6,
   "metadata": {
    "collapsed": false
   },
   "outputs": [],
   "source": [
    "from sklearn.cross_validation import train_test_split\n",
    "train, test = train_test_split(xrange(df_new.shape[0]), train_size=0.7)\n",
    "mask=np.ones(df_new.shape[0])\n",
    "mask[train]=1\n",
    "mask[test]=0\n",
    "mask = (mask==1)"
   ]
  },
  {
   "cell_type": "markdown",
   "metadata": {},
   "source": [
    "##Standardize\n",
    "Now standardize our quantitative variables so they can be compared. These variables are amount_tsh, gps_height, population, and date_recorded_offset_days."
   ]
  },
  {
   "cell_type": "code",
   "execution_count": 7,
   "metadata": {
    "collapsed": false
   },
   "outputs": [
    {
     "data": {
      "text/html": [
       "<div>\n",
       "<table border=\"1\" class=\"dataframe\">\n",
       "  <thead>\n",
       "    <tr style=\"text-align: right;\">\n",
       "      <th></th>\n",
       "      <th>amount_tsh</th>\n",
       "      <th>gps_height</th>\n",
       "      <th>population</th>\n",
       "      <th>date_recorded_offset_days</th>\n",
       "    </tr>\n",
       "  </thead>\n",
       "  <tbody>\n",
       "    <tr>\n",
       "      <th>0</th>\n",
       "      <td>1.964369</td>\n",
       "      <td>1.046323</td>\n",
       "      <td>-0.147526</td>\n",
       "      <td>1.138145</td>\n",
       "    </tr>\n",
       "    <tr>\n",
       "      <th>1</th>\n",
       "      <td>-0.109326</td>\n",
       "      <td>1.059313</td>\n",
       "      <td>0.213793</td>\n",
       "      <td>-1.019358</td>\n",
       "    </tr>\n",
       "    <tr>\n",
       "      <th>2</th>\n",
       "      <td>-0.100686</td>\n",
       "      <td>0.030162</td>\n",
       "      <td>0.150404</td>\n",
       "      <td>-0.992502</td>\n",
       "    </tr>\n",
       "    <tr>\n",
       "      <th>3</th>\n",
       "      <td>-0.109326</td>\n",
       "      <td>-0.580401</td>\n",
       "      <td>-0.255288</td>\n",
       "      <td>-0.908947</td>\n",
       "    </tr>\n",
       "    <tr>\n",
       "      <th>4</th>\n",
       "      <td>-0.109326</td>\n",
       "      <td>-0.960018</td>\n",
       "      <td>-0.377840</td>\n",
       "      <td>0.777069</td>\n",
       "    </tr>\n",
       "  </tbody>\n",
       "</table>\n",
       "</div>"
      ],
      "text/plain": [
       "   amount_tsh  gps_height  population  date_recorded_offset_days\n",
       "0    1.964369    1.046323   -0.147526                   1.138145\n",
       "1   -0.109326    1.059313    0.213793                  -1.019358\n",
       "2   -0.100686    0.030162    0.150404                  -0.992502\n",
       "3   -0.109326   -0.580401   -0.255288                  -0.908947\n",
       "4   -0.109326   -0.960018   -0.377840                   0.777069"
      ]
     },
     "execution_count": 7,
     "metadata": {},
     "output_type": "execute_result"
    }
   ],
   "source": [
    "from sklearn import preprocessing as prepr\n",
    "STANDARDIZABLE = [u'amount_tsh', u'gps_height', u'population', u'date_recorded_offset_days']\n",
    "scaler = prepr.StandardScaler().fit(df_new[mask][STANDARDIZABLE])\n",
    "df_new[STANDARDIZABLE] = scaler.transform(df_new[STANDARDIZABLE])\n",
    "df_new[STANDARDIZABLE].head()"
   ]
  },
  {
   "cell_type": "markdown",
   "metadata": {},
   "source": [
    "##Visualizing the feature variables\n",
    "Let's plot these variables now and see how their distributions differ across the functional, non functional, and needs repair wells. "
   ]
  },
  {
   "cell_type": "code",
   "execution_count": 31,
   "metadata": {
    "collapsed": false
   },
   "outputs": [
    {
     "data": {
      "image/png": "[encoded data removed]",
      "text/plain": [
       "<matplotlib.figure.Figure at 0x10ad50710>"
      ]
     },
     "metadata": {},
     "output_type": "display_data"
    }
   ],
   "source": [
    "# fig, axes = plt.subplots(nrows=2, ncols=2)\n",
    "\n",
    "# for i, feature in enumerate(STANDARDIZABLE):\n",
    "#     ax = axes[i/2, i%2]\n",
    "#     sns.kdeplot(df_new[df_new['status_group']=='functional'][feature], ax=ax, shade=True,color='green', label=\"Functional wells\")\n",
    "#     sns.kdeplot(df_new[df_new['status_group']=='non functional'][feature], ax=ax, shade=True,color='red', label=\"Non Functional Wells\")\n",
    "#     sns.kdeplot(df_new[df_new['status_group']=='functional needs repair'][feature], ax=ax, shade=True,color='blue', label=\"Wells that Need Repair\")\n",
    "#     ax.set_title(feature)\n",
    "# fig.tight_layout()"
   ]
  },
  {
   "cell_type": "markdown",
   "metadata": {},
   "source": [
    "We do the same for the categorical variables."
   ]
  },
  {
   "cell_type": "code",
   "execution_count": 8,
   "metadata": {
    "collapsed": false
   },
   "outputs": [],
   "source": [
    "CATEGORICAL = [u'funder', u'installer', u'basin', u'region',\n",
    "               u'public_meeting', u'scheme_management', u'permit',\n",
    "               u'extraction_type_group', u'extraction_type_class',\n",
    "               u'management', u'management_group', u'payment_type', u'water_quality',\n",
    "               u'quantity', u'source_type', u'source_class', u'waterpoint_type_group', u'date_recorded_month']\n",
    "for variable in CATEGORICAL:\n",
    "    df_new[variable] = df_new[variable].astype('category')  "
   ]
  },
  {
   "cell_type": "code",
   "execution_count": 79,
   "metadata": {
    "collapsed": false
   },
   "outputs": [
    {
     "data": {
      "image/png": "[encoded data removed]",
      "text/plain": [
       "<matplotlib.figure.Figure at 0x13c2c7d50>"
      ]
     },
     "metadata": {},
     "output_type": "display_data"
    }
   ],
   "source": [
    "# fig1, axes1 = plt.subplots(5,4)\n",
    "\n",
    "# plt.rc('xtick', labelsize=10) \n",
    "# plt.rc('ytick', labelsize=10) \n",
    "# for j, variable in enumerate(CATEGORICAL):\n",
    "#     ax1 = axes1[j/4,j%4]\n",
    "#     functional = df_new[df_new['status_group']=='functional'][variable].tolist()\n",
    "#     non_functional = df_new[df_new['status_group']=='non functional'][variable].tolist()\n",
    "#     needs_repair = df_new[df_new['status_group']=='functional needs repair'][variable].tolist()\n",
    "#     categories = pd.Series(df_new[variable].values.ravel()).unique()\n",
    "#     value_freq_funct = []\n",
    "#     value_freq_nonf = []\n",
    "#     value_freq_repair = []\n",
    "#     categories_num = range(1,len(categories)+1)\n",
    "#     for value in categories:\n",
    "#         value_freq_funct.append(functional.count(value))\n",
    "#         value_freq_nonf.append(non_functional.count(value))\n",
    "#         value_freq_repair.append(needs_repair.count(value))\n",
    "#     ax1.bar(categories_num,value_freq_funct,align='center',color='g')\n",
    "#     ax1.bar(categories_num,value_freq_nonf,align='center',color='r')\n",
    "#     ax1.bar(categories_num,value_freq_repair,align='center',color='b')\n",
    "#     ax1.set_xticklabels(categories)\n",
    "#     ax1.legend()\n",
    "#     ax1.set_title(variable)\n",
    "# plt.tight_layout()"
   ]
  },
  {
   "cell_type": "markdown",
   "metadata": {},
   "source": [
    "Let's take a closer look at some of them. In particular, ___ seem to show very interesting distributions."
   ]
  },
  {
   "cell_type": "code",
   "execution_count": 80,
   "metadata": {
    "collapsed": true
   },
   "outputs": [],
   "source": [
    "#TODO"
   ]
  },
  {
   "cell_type": "code",
   "execution_count": 9,
   "metadata": {
    "collapsed": false
   },
   "outputs": [
    {
     "ename": "NameError",
     "evalue": "name 'categories_num' is not defined",
     "output_type": "error",
     "traceback": [
      "\u001b[0;31m---------------------------------------------------------------------------\u001b[0m",
      "\u001b[0;31mNameError\u001b[0m                                 Traceback (most recent call last)",
      "\u001b[0;32m<ipython-input-9-f1c53eaba9e3>\u001b[0m in \u001b[0;36m<module>\u001b[0;34m()\u001b[0m\n\u001b[1;32m     18\u001b[0m \u001b[0;31m#     value_freq_repair.append(needs_repair.count(value))\u001b[0m\u001b[0;34m\u001b[0m\u001b[0;34m\u001b[0m\u001b[0m\n\u001b[1;32m     19\u001b[0m \u001b[0mfig\u001b[0m\u001b[0;34m,\u001b[0m \u001b[0;34m[\u001b[0m\u001b[0max1\u001b[0m\u001b[0;34m,\u001b[0m \u001b[0max2\u001b[0m\u001b[0;34m,\u001b[0m \u001b[0max3\u001b[0m\u001b[0;34m]\u001b[0m \u001b[0;34m=\u001b[0m \u001b[0mplt\u001b[0m\u001b[0;34m.\u001b[0m\u001b[0msubplots\u001b[0m\u001b[0;34m(\u001b[0m\u001b[0;36m3\u001b[0m\u001b[0;34m,\u001b[0m \u001b[0;36m1\u001b[0m\u001b[0;34m)\u001b[0m\u001b[0;34m\u001b[0m\u001b[0m\n\u001b[0;32m---> 20\u001b[0;31m \u001b[0max1\u001b[0m\u001b[0;34m.\u001b[0m\u001b[0mbar\u001b[0m\u001b[0;34m(\u001b[0m\u001b[0mcategories_num\u001b[0m\u001b[0;34m,\u001b[0m\u001b[0mvalue_freq_funct\u001b[0m\u001b[0;34m,\u001b[0m\u001b[0malign\u001b[0m\u001b[0;34m=\u001b[0m\u001b[0;34m'center'\u001b[0m\u001b[0;34m,\u001b[0m\u001b[0mcolor\u001b[0m\u001b[0;34m=\u001b[0m\u001b[0;34m'g'\u001b[0m\u001b[0;34m)\u001b[0m\u001b[0;34m\u001b[0m\u001b[0m\n\u001b[0m\u001b[1;32m     21\u001b[0m \u001b[0max2\u001b[0m\u001b[0;34m.\u001b[0m\u001b[0mbar\u001b[0m\u001b[0;34m(\u001b[0m\u001b[0mcategories_num\u001b[0m\u001b[0;34m,\u001b[0m\u001b[0mvalue_freq_nonf\u001b[0m\u001b[0;34m,\u001b[0m\u001b[0malign\u001b[0m\u001b[0;34m=\u001b[0m\u001b[0;34m'center'\u001b[0m\u001b[0;34m,\u001b[0m\u001b[0mcolor\u001b[0m\u001b[0;34m=\u001b[0m\u001b[0;34m'r'\u001b[0m\u001b[0;34m)\u001b[0m\u001b[0;34m\u001b[0m\u001b[0m\n\u001b[1;32m     22\u001b[0m \u001b[0max3\u001b[0m\u001b[0;34m.\u001b[0m\u001b[0mbar\u001b[0m\u001b[0;34m(\u001b[0m\u001b[0mcategories_num\u001b[0m\u001b[0;34m,\u001b[0m\u001b[0mvalue_freq_repair\u001b[0m\u001b[0;34m,\u001b[0m\u001b[0malign\u001b[0m\u001b[0;34m=\u001b[0m\u001b[0;34m'center'\u001b[0m\u001b[0;34m,\u001b[0m\u001b[0mcolor\u001b[0m\u001b[0;34m=\u001b[0m\u001b[0;34m'b'\u001b[0m\u001b[0;34m)\u001b[0m\u001b[0;34m\u001b[0m\u001b[0m\n",
      "\u001b[0;31mNameError\u001b[0m: name 'categories_num' is not defined"
     ]
    },
    {
     "data": {
      "image/png": "[encoded data removed]",
      "text/plain": [
       "<matplotlib.figure.Figure at 0x10c793e90>"
      ]
     },
     "metadata": {},
     "output_type": "display_data"
    }
   ],
   "source": [
    "##To run\n",
    "#for subvillages\n",
    "# functional = df_new[df_new['status_group']=='functional']['subvillage'].tolist()\n",
    "# non_functional = df_new[df_new['status_group']=='non functional']['subvillage'].tolist()\n",
    "# needs_repair = df_new[df_new['status_group']=='functional needs repair']['subvillage'].tolist()\n",
    "\n",
    "# plt.rc('xtick', labelsize=12) \n",
    "# plt.rc('ytick', labelsize=12)\n",
    "\n",
    "# categories = pd.Series(df_new.subvillage.values.ravel()).unique()\n",
    "# value_freq_funct = []\n",
    "# value_freq_nonf = []\n",
    "# value_freq_repair = []\n",
    "# categories_num = range(1,len(categories)+1)\n",
    "# for value in categories:\n",
    "#     value_freq_funct.append(functional.count(value))\n",
    "#     value_freq_nonf.append(non_functional.count(value))\n",
    "#     value_freq_repair.append(needs_repair.count(value))\n",
    "# fig, [ax1, ax2, ax3] = plt.subplots(3, 1)\n",
    "# ax1.bar(categories_num,value_freq_funct,align='center',color='g')\n",
    "# ax2.bar(categories_num,value_freq_nonf,align='center',color='r')\n",
    "# ax3.bar(categories_num,value_freq_repair,align='center',color='b')\n",
    "#plt.xticks(categories_num, categories)"
   ]
  },
  {
   "cell_type": "code",
   "execution_count": 10,
   "metadata": {
    "collapsed": false
   },
   "outputs": [
    {
     "data": {
      "text/plain": [
       "([<matplotlib.axis.XTick at 0x109e18450>,\n",
       "  <matplotlib.axis.XTick at 0x109e18cd0>,\n",
       "  <matplotlib.axis.XTick at 0x10a2e2390>,\n",
       "  <matplotlib.axis.XTick at 0x109df7b50>,\n",
       "  <matplotlib.axis.XTick at 0x10a262610>,\n",
       "  <matplotlib.axis.XTick at 0x10a262d90>,\n",
       "  <matplotlib.axis.XTick at 0x10a355550>,\n",
       "  <matplotlib.axis.XTick at 0x10a355cd0>,\n",
       "  <matplotlib.axis.XTick at 0x10a35f490>,\n",
       "  <matplotlib.axis.XTick at 0x10a35fc10>,\n",
       "  <matplotlib.axis.XTick at 0x10a3693d0>],\n",
       " <a list of 11 Text xticklabel objects>)"
      ]
     },
     "execution_count": 10,
     "metadata": {},
     "output_type": "execute_result"
    },
    {
     "data": {
      "image/png": "[encoded data removed]",
      "text/plain": [
       "<matplotlib.figure.Figure at 0x109cfafd0>"
      ]
     },
     "metadata": {},
     "output_type": "display_data"
    }
   ],
   "source": [
    "#for funders\n",
    "functional = df_new[df_new['status_group']=='functional']['funder'].tolist()\n",
    "non_functional = df_new[df_new['status_group']=='non functional']['funder'].tolist()\n",
    "needs_repair = df_new[df_new['status_group']=='functional needs repair']['funder'].tolist()\n",
    "\n",
    "plt.rc('xtick', labelsize=12) \n",
    "plt.rc('ytick', labelsize=12)\n",
    "\n",
    "categories = pd.Series(df_new.funder.values.ravel()).unique()\n",
    "value_freq_funct = []\n",
    "value_freq_nonf = []\n",
    "value_freq_repair = []\n",
    "categories_num = range(1,len(categories)+1)\n",
    "for value in categories:\n",
    "    value_freq_funct.append(functional.count(value))\n",
    "    value_freq_nonf.append(non_functional.count(value))\n",
    "    value_freq_repair.append(needs_repair.count(value))\n",
    "fig.set_size_inches(8, 5)\n",
    "plt.bar(categories_num,value_freq_funct,align='center',color='g')\n",
    "plt.bar(categories_num,value_freq_nonf,align='center',color='r')\n",
    "plt.bar(categories_num,value_freq_repair,align='center',color='b')\n",
    "plt.xticks(categories_num, categories)"
   ]
  },
  {
   "cell_type": "code",
   "execution_count": 92,
   "metadata": {
    "collapsed": false,
    "scrolled": false
   },
   "outputs": [
    {
     "data": {
      "text/plain": [
       "array(['Other', 'Unicef', 'Rwssp', 'Danida', 'World Vision', 'Hesawa',\n",
       "       'Government Of Tanzania', nan, 'Kkkt', 'Tasaf', 'World Bank'], dtype=object)"
      ]
     },
     "execution_count": 92,
     "metadata": {},
     "output_type": "execute_result"
    }
   ],
   "source": [
    "pd.Series(df.funder.values.ravel()).unique()"
   ]
  },
  {
   "cell_type": "markdown",
   "metadata": {},
   "source": [
    "#Models\n"
   ]
  },
  {
   "cell_type": "markdown",
   "metadata": {},
   "source": [
    "Because we are working with a lot of categorical feature data, we first need to turn the multiclass feature variables into indicators for each of the possible values."
   ]
  },
  {
   "cell_type": "code",
   "execution_count": 9,
   "metadata": {
    "collapsed": false
   },
   "outputs": [
    {
     "data": {
      "text/html": [
       "<div>\n",
       "<table border=\"1\" class=\"dataframe\">\n",
       "  <thead>\n",
       "    <tr style=\"text-align: right;\">\n",
       "      <th></th>\n",
       "      <th>amount_tsh</th>\n",
       "      <th>gps_height</th>\n",
       "      <th>population</th>\n",
       "      <th>date_recorded_offset_days</th>\n",
       "      <th>status_group</th>\n",
       "      <th>funder_Danida</th>\n",
       "      <th>funder_Government Of Tanzania</th>\n",
       "      <th>funder_Hesawa</th>\n",
       "      <th>funder_Kkkt</th>\n",
       "      <th>funder_Other</th>\n",
       "      <th>...</th>\n",
       "      <th>date_recorded_month_Dec</th>\n",
       "      <th>date_recorded_month_Feb</th>\n",
       "      <th>date_recorded_month_Jan</th>\n",
       "      <th>date_recorded_month_Jul</th>\n",
       "      <th>date_recorded_month_Jun</th>\n",
       "      <th>date_recorded_month_Mar</th>\n",
       "      <th>date_recorded_month_May</th>\n",
       "      <th>date_recorded_month_Nov</th>\n",
       "      <th>date_recorded_month_Oct</th>\n",
       "      <th>date_recorded_month_Sep</th>\n",
       "    </tr>\n",
       "  </thead>\n",
       "  <tbody>\n",
       "    <tr>\n",
       "      <th>0</th>\n",
       "      <td>1.964369</td>\n",
       "      <td>1.046323</td>\n",
       "      <td>-0.147526</td>\n",
       "      <td>1.138145</td>\n",
       "      <td>functional</td>\n",
       "      <td>0</td>\n",
       "      <td>0</td>\n",
       "      <td>0</td>\n",
       "      <td>0</td>\n",
       "      <td>1</td>\n",
       "      <td>...</td>\n",
       "      <td>0</td>\n",
       "      <td>0</td>\n",
       "      <td>0</td>\n",
       "      <td>0</td>\n",
       "      <td>0</td>\n",
       "      <td>1</td>\n",
       "      <td>0</td>\n",
       "      <td>0</td>\n",
       "      <td>0</td>\n",
       "      <td>0</td>\n",
       "    </tr>\n",
       "    <tr>\n",
       "      <th>1</th>\n",
       "      <td>-0.109326</td>\n",
       "      <td>1.059313</td>\n",
       "      <td>0.213793</td>\n",
       "      <td>-1.019358</td>\n",
       "      <td>functional</td>\n",
       "      <td>0</td>\n",
       "      <td>0</td>\n",
       "      <td>0</td>\n",
       "      <td>0</td>\n",
       "      <td>1</td>\n",
       "      <td>...</td>\n",
       "      <td>0</td>\n",
       "      <td>0</td>\n",
       "      <td>0</td>\n",
       "      <td>0</td>\n",
       "      <td>0</td>\n",
       "      <td>1</td>\n",
       "      <td>0</td>\n",
       "      <td>0</td>\n",
       "      <td>0</td>\n",
       "      <td>0</td>\n",
       "    </tr>\n",
       "    <tr>\n",
       "      <th>2</th>\n",
       "      <td>-0.100686</td>\n",
       "      <td>0.030162</td>\n",
       "      <td>0.150404</td>\n",
       "      <td>-0.992502</td>\n",
       "      <td>functional</td>\n",
       "      <td>0</td>\n",
       "      <td>0</td>\n",
       "      <td>0</td>\n",
       "      <td>0</td>\n",
       "      <td>1</td>\n",
       "      <td>...</td>\n",
       "      <td>0</td>\n",
       "      <td>1</td>\n",
       "      <td>0</td>\n",
       "      <td>0</td>\n",
       "      <td>0</td>\n",
       "      <td>0</td>\n",
       "      <td>0</td>\n",
       "      <td>0</td>\n",
       "      <td>0</td>\n",
       "      <td>0</td>\n",
       "    </tr>\n",
       "    <tr>\n",
       "      <th>3</th>\n",
       "      <td>-0.109326</td>\n",
       "      <td>-0.580401</td>\n",
       "      <td>-0.255288</td>\n",
       "      <td>-0.908947</td>\n",
       "      <td>non functional</td>\n",
       "      <td>0</td>\n",
       "      <td>0</td>\n",
       "      <td>0</td>\n",
       "      <td>0</td>\n",
       "      <td>0</td>\n",
       "      <td>...</td>\n",
       "      <td>0</td>\n",
       "      <td>0</td>\n",
       "      <td>1</td>\n",
       "      <td>0</td>\n",
       "      <td>0</td>\n",
       "      <td>0</td>\n",
       "      <td>0</td>\n",
       "      <td>0</td>\n",
       "      <td>0</td>\n",
       "      <td>0</td>\n",
       "    </tr>\n",
       "    <tr>\n",
       "      <th>4</th>\n",
       "      <td>-0.109326</td>\n",
       "      <td>-0.960018</td>\n",
       "      <td>-0.377840</td>\n",
       "      <td>0.777069</td>\n",
       "      <td>functional</td>\n",
       "      <td>0</td>\n",
       "      <td>0</td>\n",
       "      <td>0</td>\n",
       "      <td>0</td>\n",
       "      <td>1</td>\n",
       "      <td>...</td>\n",
       "      <td>0</td>\n",
       "      <td>0</td>\n",
       "      <td>0</td>\n",
       "      <td>1</td>\n",
       "      <td>0</td>\n",
       "      <td>0</td>\n",
       "      <td>0</td>\n",
       "      <td>0</td>\n",
       "      <td>0</td>\n",
       "      <td>0</td>\n",
       "    </tr>\n",
       "  </tbody>\n",
       "</table>\n",
       "<p>5 rows × 155 columns</p>\n",
       "</div>"
      ],
      "text/plain": [
       "   amount_tsh  gps_height  population  date_recorded_offset_days  \\\n",
       "0    1.964369    1.046323   -0.147526                   1.138145   \n",
       "1   -0.109326    1.059313    0.213793                  -1.019358   \n",
       "2   -0.100686    0.030162    0.150404                  -0.992502   \n",
       "3   -0.109326   -0.580401   -0.255288                  -0.908947   \n",
       "4   -0.109326   -0.960018   -0.377840                   0.777069   \n",
       "\n",
       "     status_group  funder_Danida  funder_Government Of Tanzania  \\\n",
       "0      functional              0                              0   \n",
       "1      functional              0                              0   \n",
       "2      functional              0                              0   \n",
       "3  non functional              0                              0   \n",
       "4      functional              0                              0   \n",
       "\n",
       "   funder_Hesawa  funder_Kkkt  funder_Other           ...             \\\n",
       "0              0            0             1           ...              \n",
       "1              0            0             1           ...              \n",
       "2              0            0             1           ...              \n",
       "3              0            0             0           ...              \n",
       "4              0            0             1           ...              \n",
       "\n",
       "   date_recorded_month_Dec  date_recorded_month_Feb  date_recorded_month_Jan  \\\n",
       "0                        0                        0                        0   \n",
       "1                        0                        0                        0   \n",
       "2                        0                        1                        0   \n",
       "3                        0                        0                        1   \n",
       "4                        0                        0                        0   \n",
       "\n",
       "   date_recorded_month_Jul  date_recorded_month_Jun  date_recorded_month_Mar  \\\n",
       "0                        0                        0                        1   \n",
       "1                        0                        0                        1   \n",
       "2                        0                        0                        0   \n",
       "3                        0                        0                        0   \n",
       "4                        1                        0                        0   \n",
       "\n",
       "   date_recorded_month_May  date_recorded_month_Nov  date_recorded_month_Oct  \\\n",
       "0                        0                        0                        0   \n",
       "1                        0                        0                        0   \n",
       "2                        0                        0                        0   \n",
       "3                        0                        0                        0   \n",
       "4                        0                        0                        0   \n",
       "\n",
       "   date_recorded_month_Sep  \n",
       "0                        0  \n",
       "1                        0  \n",
       "2                        0  \n",
       "3                        0  \n",
       "4                        0  \n",
       "\n",
       "[5 rows x 155 columns]"
      ]
     },
     "execution_count": 9,
     "metadata": {},
     "output_type": "execute_result"
    }
   ],
   "source": [
    "#df_formatted includes all the data from df_new, with the categorical variables as indicators\n",
    "df_formatted = pd.get_dummies(df_new, columns=CATEGORICAL)\n",
    "df_formatted.head()"
   ]
  },
  {
   "cell_type": "code",
   "execution_count": 10,
   "metadata": {
    "collapsed": false
   },
   "outputs": [],
   "source": [
    "#feat_train and lab_train analogous to Xtrain and ytrain\n",
    "feat_train = df_formatted[mask].drop('status_group',axis=1)\n",
    "lab_train = pd.DataFrame(df_formatted[mask].status_group)\n",
    "##feat_test and lab_test analogous to Xtrain and ytrain\n",
    "feat_test = df_formatted[~mask].drop('status_group',axis=1)\n",
    "lab_test = pd.DataFrame(df_formatted[~mask].status_group)"
   ]
  },
  {
   "cell_type": "markdown",
   "metadata": {},
   "source": [
    "##Naive Bayes\n",
    "\n",
    "We begin with Naive Bayes to set up a baseline classifier. While the probabilities may not be too well calibrated, the relative order of of the probabilities across the labels is typically correct.\n",
    "\n",
    "Because we have a combination of categorical and continuous predictors, we first independently fit a Gaussian Naive Bayes model on the continuous data and a bernoulli Naive Bayes model on the categorical part. \n",
    "\n",
    "####TO DECIDE\n",
    "\n",
    "Then we __________ transform the entire dataset by taking the class assignment probabilities (with the predict_proba() method) as the new features: np.hstack((multinomial_probas, gaussian_probas)) and then refit a new model (e.g. a new gaussian NB) on these new features.\n",
    "\n",
    "calibrate (show plot)\n",
    "log -> sum"
   ]
  },
  {
   "cell_type": "code",
   "execution_count": 25,
   "metadata": {
    "collapsed": false
   },
   "outputs": [],
   "source": [
    "#TO RUN\n",
    "from sklearn.naive_bayes import GaussianNB, BernoulliNB, MultinomialNB\n",
    "\n",
    "#separate categorical and continuous\n",
    "cont_feat_train = feat_train[STANDARDIZABLE].values\n",
    "cat_feat_train = feat_train.drop(STANDARDIZABLE,axis=1).values\n",
    "cont_feat_test = feat_test[STANDARDIZABLE].values\n",
    "cat_feat_test = feat_test.drop(STANDARDIZABLE,axis=1).values"
   ]
  },
  {
   "cell_type": "code",
   "execution_count": 12,
   "metadata": {
    "collapsed": false
   },
   "outputs": [
    {
     "name": "stdout",
     "output_type": "stream",
     "text": [
      "Frac of correctly labeled points 0.419809203143\n"
     ]
    },
    {
     "name": "stderr",
     "output_type": "stream",
     "text": [
      "/Users/lilyzhang/anaconda/lib/python2.7/site-packages/sklearn/utils/validation.py:449: DataConversionWarning: A column-vector y was passed when a 1d array was expected. Please change the shape of y to (n_samples, ), for example using ravel().\n",
      "  y = column_or_1d(y, warn=True)\n"
     ]
    },
    {
     "data": {
      "text/plain": [
       "array([[ 884,   68,  304],\n",
       "       [   0,    0,    0],\n",
       "       [8742, 1225, 6597]])"
      ]
     },
     "execution_count": 12,
     "metadata": {},
     "output_type": "execute_result"
    }
   ],
   "source": [
    "#fit the continuous variables to a Gaussian Naive Bayes\n",
    "gnb_clf = GaussianNB()\n",
    "gnb_clf.fit(cont_feat_train, lab_train)\n",
    "print \"Frac of correctly labeled points\",float((lab_test.values.transpose().tolist() == gnb_clf.predict(cont_feat_test)).sum())/lab_test.shape[0]\n",
    "confusion_matrix(gnb_clf.predict(cont_feat_test),lab_test)"
   ]
  },
  {
   "cell_type": "code",
   "execution_count": 13,
   "metadata": {
    "collapsed": false
   },
   "outputs": [
    {
     "name": "stdout",
     "output_type": "stream",
     "text": [
      "Frac of correctly labeled points 0.655892255892\n"
     ]
    },
    {
     "name": "stderr",
     "output_type": "stream",
     "text": [
      "/Users/lilyzhang/anaconda/lib/python2.7/site-packages/sklearn/utils/validation.py:449: DataConversionWarning: A column-vector y was passed when a 1d array was expected. Please change the shape of y to (n_samples, ), for example using ravel().\n",
      "  y = column_or_1d(y, warn=True)\n"
     ]
    },
    {
     "data": {
      "text/plain": [
       "array([[7003,  563, 2058],\n",
       "       [1047,  459,  617],\n",
       "       [1576,  271, 4226]])"
      ]
     },
     "execution_count": 13,
     "metadata": {},
     "output_type": "execute_result"
    }
   ],
   "source": [
    "#fit the categorical variables to a Bernoulli Naive Bayes\n",
    "bnb_clf = BernoulliNB()\n",
    "bnb_clf.fit(cat_feat_train, lab_train)\n",
    "\n",
    "print \"Frac of correctly labeled points\",float((lab_test.values.transpose().tolist() == bnb_clf.predict(cat_feat_test)).sum())/lab_test.shape[0]\n",
    "confusion_matrix(bnb_clf.predict(cat_feat_test),lab_test)"
   ]
  },
  {
   "cell_type": "markdown",
   "metadata": {},
   "source": [
    "Naive Bayes does not work well with highly correlated features because the conditional independence assumption of Naive Bayes overinflates the importance of these correlated features by in effect counting them twice. Thus, we remove some of the redundant features, particularly the more broad feature in the nesting structures."
   ]
  },
  {
   "cell_type": "code",
   "execution_count": 14,
   "metadata": {
    "collapsed": false
   },
   "outputs": [],
   "source": [
    "small_df_new = df_new.drop(['management_group','source_class','extraction_type_class'], axis=1)\n",
    "small_df_formatted = pd.get_dummies(small_df_new, columns=list(set(CATEGORICAL).difference(['management_group','source_class','extraction_type_class'])))\n",
    "\n",
    "\n",
    "reduced_feat_train = small_df_formatted[mask].drop('status_group',axis=1)\n",
    "reduced_feat_test = small_df_formatted[~mask].drop('status_group',axis=1)\n",
    "\n",
    "cont_feat_train1 = reduced_feat_train[STANDARDIZABLE].values\n",
    "cat_feat_train1 = reduced_feat_train.drop(STANDARDIZABLE,axis=1).values\n",
    "cont_feat_test1 = reduced_feat_test[STANDARDIZABLE].values\n",
    "cat_feat_test1 = reduced_feat_test.drop(STANDARDIZABLE,axis=1).values"
   ]
  },
  {
   "cell_type": "code",
   "execution_count": 16,
   "metadata": {
    "collapsed": false
   },
   "outputs": [
    {
     "name": "stdout",
     "output_type": "stream",
     "text": [
      "Frac of correctly labeled points 0.419809203143\n"
     ]
    },
    {
     "name": "stderr",
     "output_type": "stream",
     "text": [
      "/Users/lilyzhang/anaconda/lib/python2.7/site-packages/sklearn/utils/validation.py:449: DataConversionWarning: A column-vector y was passed when a 1d array was expected. Please change the shape of y to (n_samples, ), for example using ravel().\n",
      "  y = column_or_1d(y, warn=True)\n"
     ]
    },
    {
     "data": {
      "text/plain": [
       "array([[ 884,   68,  304],\n",
       "       [   0,    0,    0],\n",
       "       [8742, 1225, 6597]])"
      ]
     },
     "execution_count": 16,
     "metadata": {},
     "output_type": "execute_result"
    }
   ],
   "source": [
    "gnb_clf1 = GaussianNB()\n",
    "gnb_clf1.fit(cont_feat_train1, lab_train)\n",
    "print \"Frac of correctly labeled points\",float((lab_test.values.transpose().tolist() == gnb_clf1.predict(cont_feat_test1)).sum())/lab_test.shape[0]\n",
    "confusion_matrix(gnb_clf1.predict(cont_feat_test1),lab_test)"
   ]
  },
  {
   "cell_type": "code",
   "execution_count": 17,
   "metadata": {
    "collapsed": false
   },
   "outputs": [
    {
     "name": "stdout",
     "output_type": "stream",
     "text": [
      "Frac of correctly labeled points 0.675364758698\n"
     ]
    },
    {
     "name": "stderr",
     "output_type": "stream",
     "text": [
      "/Users/lilyzhang/anaconda/lib/python2.7/site-packages/sklearn/utils/validation.py:449: DataConversionWarning: A column-vector y was passed when a 1d array was expected. Please change the shape of y to (n_samples, ), for example using ravel().\n",
      "  y = column_or_1d(y, warn=True)\n"
     ]
    },
    {
     "data": {
      "text/plain": [
       "array([[7219,  585, 2124],\n",
       "       [ 711,  416,  377],\n",
       "       [1696,  292, 4400]])"
      ]
     },
     "execution_count": 17,
     "metadata": {},
     "output_type": "execute_result"
    }
   ],
   "source": [
    "#fit the categorical variables to a Bernoulli Naive Bayes\n",
    "bnb_clf1 = BernoulliNB()\n",
    "bnb_clf1.fit(cat_feat_train1, lab_train)\n",
    "\n",
    "print \"Frac of correctly labeled points\",float((lab_test.values.transpose().tolist() == bnb_clf1.predict(cat_feat_test1)).sum())/lab_test.shape[0]\n",
    "confusion_matrix(bnb_clf1.predict(cat_feat_test1),lab_test)"
   ]
  },
  {
   "cell_type": "markdown",
   "metadata": {},
   "source": [
    "Bernoulli vs. Multinomial--why is Multinomial better?"
   ]
  },
  {
   "cell_type": "code",
   "execution_count": 27,
   "metadata": {
    "collapsed": false
   },
   "outputs": [
    {
     "name": "stdout",
     "output_type": "stream",
     "text": [
      "Frac of correctly labeled points 0.694163860831\n"
     ]
    },
    {
     "name": "stderr",
     "output_type": "stream",
     "text": [
      "/Users/lilyzhang/anaconda/lib/python2.7/site-packages/sklearn/utils/validation.py:449: DataConversionWarning: A column-vector y was passed when a 1d array was expected. Please change the shape of y to (n_samples, ), for example using ravel().\n",
      "  y = column_or_1d(y, warn=True)\n"
     ]
    },
    {
     "data": {
      "text/plain": [
       "array([[7730,  697, 2330],\n",
       "       [ 473,  316,  247],\n",
       "       [1423,  280, 4324]])"
      ]
     },
     "execution_count": 27,
     "metadata": {},
     "output_type": "execute_result"
    }
   ],
   "source": [
    "#TO RUN\n",
    "#fit the categorical variables to a Multinomial Naive Bayes\n",
    "mnb_clf1 = MultinomialNB()\n",
    "mnb_clf1.fit(cat_feat_train1, lab_train)\n",
    "\n",
    "print \"Frac of correctly labeled points\",float((lab_test.values.transpose().tolist() == mnb_clf1.predict(cat_feat_test1)).sum())/lab_test.shape[0]\n",
    "confusion_matrix(mnb_clf1.predict(cat_feat_test1),lab_test)"
   ]
  },
  {
   "cell_type": "code",
   "execution_count": null,
   "metadata": {
    "collapsed": true
   },
   "outputs": [],
   "source": [
    "#TODO\n",
    "#optimize with Fisher's method\n",
    "#combine for mixed Bayes?\n",
    "\n",
    "\n",
    "#fit the categorical variables to a Multinomial Naive Bayes\n",
    "# mnb_clf = BernoulliNB()\n",
    "# mnb_clf.fit(cat_feat_train, lab_train)\n",
    "\n",
    "# gnb_probs = gnb_clf.predict_proba(cont_feat_train)\n",
    "# mnb_probs = mnb_clf.predict_proba(cat_feat_train)\n",
    "\n",
    "# feat_probs = np.hstack((gnb_probs, mnb_probs))\n",
    "\n",
    "# nb_clf = GaussianNB()\n",
    "# nb_clf.fit(feat_probs, lab_train)\n",
    "\n",
    "# #don't know how to change the inputs to probabilities \n",
    "# print \"Frac of mislabeled points\",float((lab_test != nb_clf.predict(feat_test)).sum())/lab_test.shape[0]\n",
    "# confusion_matrix(nb_clf.predict(feat_test),lab_test)"
   ]
  },
  {
   "cell_type": "markdown",
   "metadata": {},
   "source": [
    "The one problem with this above approach, however, is that .predict_proba(X) method will return posteriors normalized over all classes. What we want is the unnormalized probabilities so that we can multiply them together. However, if they are normalized differently (which they are, since they are normalized for the classes), the product of such probabilities is not very reliable.http://stats.stackexchange.com/questions/93928/naive-bayes-continuous-and-categorical-predictors"
   ]
  },
  {
   "cell_type": "code",
   "execution_count": null,
   "metadata": {
    "collapsed": true
   },
   "outputs": [],
   "source": [
    "#TODO: turn quantitative variables to categorical ones\n"
   ]
  },
  {
   "cell_type": "markdown",
   "metadata": {},
   "source": [
    "##Regression\n",
    "\n",
    "Because we have a categorical outcome variable with more than one outcome, we conduct a multinomial logistic regression with LASSO (specifically, L2) regularization."
   ]
  },
  {
   "cell_type": "markdown",
   "metadata": {},
   "source": [
    "Based on the visualizations up above, with 1. the wells shown in their respective geographic locations and 2. the proportion of functional/non functional/functional-needs-repair different across regions and subvillages, we sense that there may be some sort of clustering of wells by subvillage and region. Thus, we first create a multilevel model with two levels, one for the individual wells and the second for the subvillages. This creates a different correlation structure between the data points based on what group they are in."
   ]
  },
  {
   "cell_type": "code",
   "execution_count": 49,
   "metadata": {
    "collapsed": false
   },
   "outputs": [],
   "source": [
    "##classifier without optimizing for C\n",
    "mlr_clf = LogisticRegression(penalty=\"l2\",solver='newton-cg', multi_class='multinomial')"
   ]
  },
  {
   "cell_type": "code",
   "execution_count": 53,
   "metadata": {
    "collapsed": false
   },
   "outputs": [
    {
     "name": "stderr",
     "output_type": "stream",
     "text": [
      "/Users/lilyzhang/anaconda/lib/python2.7/site-packages/sklearn/utils/validation.py:449: DataConversionWarning: A column-vector y was passed when a 1d array was expected. Please change the shape of y to (n_samples, ), for example using ravel().\n",
      "  y = column_or_1d(y, warn=True)\n"
     ]
    }
   ],
   "source": [
    "mlr_clf = mlr_clf.fit(feat_train, lab_train)"
   ]
  },
  {
   "cell_type": "code",
   "execution_count": 54,
   "metadata": {
    "collapsed": false
   },
   "outputs": [
    {
     "name": "stdout",
     "output_type": "stream",
     "text": [
      "############# based on standard predict ################\n",
      "Accuracy on training data: 0.74\n",
      "Accuracy on test data:     0.73\n",
      "[[8592   76 1045]\n",
      " [ 932   96  245]\n",
      " [2451   45 4338]]\n",
      "########################################################\n"
     ]
    }
   ],
   "source": [
    "training_accuracy = mlr_clf.score(feat_train, lab_train)\n",
    "test_accuracy = mlr_clf.score(feat_test, lab_test)\n",
    "print \"############# based on standard predict ################\"\n",
    "print \"Accuracy on training data: %0.2f\" % (training_accuracy)\n",
    "print \"Accuracy on test data:     %0.2f\" % (test_accuracy)\n",
    "print confusion_matrix(lab_test, mlr_clf.predict(feat_test))\n",
    "print \"########################################################\""
   ]
  },
  {
   "cell_type": "markdown",
   "metadata": {},
   "source": [
    "Let's take a look at the fitted model itself and interpret the coefficients. #TODO"
   ]
  },
  {
   "cell_type": "code",
   "execution_count": 172,
   "metadata": {
    "collapsed": false
   },
   "outputs": [
    {
     "data": {
      "text/plain": [
       "array([ 1.20513196, -1.51050906,  0.3053771 ])"
      ]
     },
     "execution_count": 172,
     "metadata": {},
     "output_type": "execute_result"
    }
   ],
   "source": [
    "mlr_clf.intercept_"
   ]
  },
  {
   "cell_type": "code",
   "execution_count": 28,
   "metadata": {
    "collapsed": false
   },
   "outputs": [
    {
     "name": "stdout",
     "output_type": "stream",
     "text": [
      "############# based on standard predict ################\n",
      "Accuracy on training data: 0.73\n",
      "Accuracy on test data:     0.74\n",
      "[[8616   52  958]\n",
      " [ 950  107  236]\n",
      " [2437   45 4419]]\n",
      "########################################################\n"
     ]
    },
    {
     "name": "stderr",
     "output_type": "stream",
     "text": [
      "/Users/lilyzhang/anaconda/lib/python2.7/site-packages/sklearn/utils/validation.py:449: DataConversionWarning: A column-vector y was passed when a 1d array was expected. Please change the shape of y to (n_samples, ), for example using ravel().\n",
      "  y = column_or_1d(y, warn=True)\n"
     ]
    }
   ],
   "source": [
    "mlr_clf2 = LogisticRegression(penalty=\"l2\",solver='newton-cg', multi_class='multinomial',C=1000)\n",
    "mlr_clf2 = mlr_clf2.fit(feat_train, lab_train)\n",
    "training_accuracy = mlr_clf2.score(feat_train, lab_train)\n",
    "test_accuracy = mlr_clf2.score(feat_test, lab_test)\n",
    "print \"############# based on standard predict ################\"\n",
    "print \"Accuracy on training data: %0.2f\" % (training_accuracy)\n",
    "print \"Accuracy on test data:     %0.2f\" % (test_accuracy)\n",
    "print confusion_matrix(lab_test, mlr_clf2.predict(feat_test))\n",
    "print \"########################################################\""
   ]
  },
  {
   "cell_type": "markdown",
   "metadata": {},
   "source": [
    "#TODO:\n",
    "-regularization hyperparameter\n",
    "-calibration plot\n",
    "-MLM\n",
    "-Thresholdout"
   ]
  },
  {
   "cell_type": "markdown",
   "metadata": {},
   "source": [
    "##Optimizing the hyperparameters"
   ]
  },
  {
   "cell_type": "markdown",
   "metadata": {},
   "source": [
    "Now we write two functions: cv_optimize() use GridSearchCV to choose the best regularization hyperparameter for the model, and do_classify() to print out the model fit on the training and test sets."
   ]
  },
  {
   "cell_type": "code",
   "execution_count": 18,
   "metadata": {
    "collapsed": true
   },
   "outputs": [],
   "source": [
    "def cv_optimize(clf, parameters, X, y, n_folds=5, score_func=None):\n",
    "    gs = GridSearchCV(clf, param_grid=parameters, cv=n_folds, scoring=score_func)\n",
    "    gs.fit(X, y)\n",
    "    print \"BEST:\", gs.best_params_\n",
    "    return gs.best_estimator_"
   ]
  },
  {
   "cell_type": "markdown",
   "metadata": {},
   "source": [
    "Here, we use the score() function in sklearn.linear_model.LogisticRegression. Other model evaluation/comparison measures we could consider are the balanced F-score (sklearn.metrics.f1_score()), the Kappa Statistic, Confusion Matrix, Hamming Loss, and Zero One loss. More options can be found here: http://scikit-learn.org/stable/modules/model_evaluation.html. (#TODO if more time)"
   ]
  },
  {
   "cell_type": "code",
   "execution_count": 19,
   "metadata": {
    "collapsed": true
   },
   "outputs": [],
   "source": [
    "from sklearn.metrics import confusion_matrix\n",
    "def do_classify(clf, parameters, indf, featurenames, targetname, target1val, mask=None, reuse_split=None, score_func=None, n_folds=5):\n",
    "    subdf=indf[featurenames]\n",
    "    X=subdf.values\n",
    "    y=indf[targetname].values\n",
    "    if mask !=None:\n",
    "        print \"using mask\"\n",
    "        Xtrain, Xtest, ytrain, ytest = X[mask], X[~mask], y[mask], y[~mask]\n",
    "    if reuse_split !=None:\n",
    "        print \"using reuse split\"\n",
    "        Xtrain, Xtest, ytrain, ytest = reuse_split['Xtrain'], reuse_split['Xtest'], reuse_split['ytrain'], reuse_split['ytest']\n",
    "    if parameters:\n",
    "        clf = cv_optimize(clf, parameters, Xtrain, ytrain, n_folds=n_folds, score_func=score_func)\n",
    "    clf=clf.fit(Xtrain, ytrain)\n",
    "    training_accuracy = clf.score(Xtrain, ytrain)\n",
    "    test_accuracy = clf.score(Xtest, ytest)\n",
    "    print \"############# based on standard predict ################\"\n",
    "    print \"Accuracy on training data: %0.2f\" % (training_accuracy)\n",
    "    print \"Accuracy on test data:     %0.2f\" % (test_accuracy)\n",
    "    print confusion_matrix(ytest, clf.predict(Xtest))\n",
    "    print \"########################################################\"\n",
    "    return clf, Xtrain, ytrain, Xtest, ytest"
   ]
  },
  {
   "cell_type": "code",
   "execution_count": 22,
   "metadata": {
    "collapsed": false
   },
   "outputs": [
    {
     "name": "stdout",
     "output_type": "stream",
     "text": [
      "CPU times: user 4 µs, sys: 2 µs, total: 6 µs\n",
      "Wall time: 9.06 µs\n",
      "using mask\n",
      "BEST: {'C': 100.0}\n",
      "############# based on standard predict ################\n",
      "Accuracy on training data: 0.73\n",
      "Accuracy on test data:     0.74\n",
      "[[8616   52  958]\n",
      " [ 950  107  236]\n",
      " [2437   45 4419]]\n",
      "########################################################\n"
     ]
    },
    {
     "name": "stderr",
     "output_type": "stream",
     "text": [
      "/Users/lilyzhang/anaconda/lib/python2.7/site-packages/IPython/kernel/__main__.py:6: FutureWarning: comparison to `None` will result in an elementwise object comparison in the future.\n"
     ]
    }
   ],
   "source": [
    "#TODO: getting a class error\n",
    "feat_cols=list(df_formatted.columns)\n",
    "feat_cols.remove(u'status_group')\n",
    "%time\n",
    "clfmlr, Xtrain, ytrain, Xtest, ytest = do_classify(LogisticRegression(penalty=\"l2\",solver='newton-cg', multi_class='multinomial'), \n",
    "            {\"C\": [0.001, 0.01, 0.1, 1.0, 10.0, 100.0]}, df_formatted,feat_cols, u'status_group',1, mask=mask)"
   ]
  },
  {
   "cell_type": "markdown",
   "metadata": {},
   "source": [
    "##Thresholdout\n",
    "\n",
    "There is a problem with using and reusing the test set to estimate the accuracy of a model. Specifically, we run into problems of overfitting since we use the results of on test set to adapt the model over multiple iteration, so that when we fit to the test set the nth time, the model is no longer completely independent of the test set that helped refine it in the previous example. Based on the findings of a recent paper that came out in _Science_, \"The reusable holdout: Preserving validity in adaptive data analysis,\" we run a Thresholdout, where we add noise to the holdout set, or test set, every time we use it. Based on the relative accuracy measurements on the test and training set, we take either the training set's accuracy measurement of the test set's accuracy measurement plus random noise. We have a maximum number of times we can iterate based on the variance we allow in our measurements and the size of the holdout set. More information can be found here: http://arxiv.org/pdf/1506.02629v1.pdf and https://www.sciencemag.org/content/349/6248/636.short.\n",
    "\n",
    "We added this functionality to do_classify in the function do_classify2()."
   ]
  },
  {
   "cell_type": "code",
   "execution_count": null,
   "metadata": {
    "collapsed": true
   },
   "outputs": [],
   "source": []
  },
  {
   "cell_type": "code",
   "execution_count": null,
   "metadata": {
    "collapsed": true
   },
   "outputs": [],
   "source": []
  },
  {
   "cell_type": "markdown",
   "metadata": {},
   "source": [
    "versions of optimizing:\n",
    "- OLS (least bias)\n",
    "- feature selection manually?\n",
    "- regularization\n",
    "    - ridge (posterior mean given a normal prior on the coefficients)\n",
    "    - lasso (parameter shrinkage and selection; MAP given Laplace prior)\n",
    "\n",
    "-use thresholdout to cross validation"
   ]
  },
  {
   "cell_type": "markdown",
   "metadata": {},
   "source": [
    "#Visualization"
   ]
  },
  {
   "cell_type": "markdown",
   "metadata": {},
   "source": [
    "In order to create the following, we first install basemap with 'conda install basemap.'"
   ]
  },
  {
   "cell_type": "code",
   "execution_count": 168,
   "metadata": {
    "collapsed": false
   },
   "outputs": [
    {
     "ename": "ImportError",
     "evalue": "No module named basemap",
     "output_type": "error",
     "traceback": [
      "\u001b[0;31m---------------------------------------------------------------------------\u001b[0m",
      "\u001b[0;31mImportError\u001b[0m                               Traceback (most recent call last)",
      "\u001b[0;32m<ipython-input-168-87ca1c6893c2>\u001b[0m in \u001b[0;36m<module>\u001b[0;34m()\u001b[0m\n\u001b[0;32m----> 1\u001b[0;31m \u001b[0;32mfrom\u001b[0m \u001b[0mmpl_toolkits\u001b[0m\u001b[0;34m.\u001b[0m\u001b[0mbasemap\u001b[0m \u001b[0;32mimport\u001b[0m \u001b[0mBasemap\u001b[0m\u001b[0;34m\u001b[0m\u001b[0m\n\u001b[0m\u001b[1;32m      2\u001b[0m \u001b[0;34m\u001b[0m\u001b[0m\n\u001b[1;32m      3\u001b[0m \u001b[0;31m# setup Lambert Conformal basemap.\u001b[0m\u001b[0;34m\u001b[0m\u001b[0;34m\u001b[0m\u001b[0m\n\u001b[1;32m      4\u001b[0m m = Basemap(projection='cyl',\n\u001b[1;32m      5\u001b[0m             \u001b[0mresolution\u001b[0m\u001b[0;34m=\u001b[0m\u001b[0;34m'h'\u001b[0m\u001b[0;34m,\u001b[0m\u001b[0;34m\u001b[0m\u001b[0m\n",
      "\u001b[0;31mImportError\u001b[0m: No module named basemap"
     ]
    }
   ],
   "source": [
    "from mpl_toolkits.basemap import Basemap\n",
    "\n",
    "# setup Lambert Conformal basemap.\n",
    "m = Basemap(projection='cyl',\n",
    "            resolution='h',\n",
    "            lat_0=-6,lon_0=34., \n",
    "            llcrnrlon=25, llcrnrlat=-12,\n",
    "            urcrnrlon=43, urcrnrlat=0)\n",
    "\n",
    "# draw coastlines.\n",
    "m.drawcoastlines()\n",
    "\n",
    "# draw countries borders.\n",
    "m.drawcountries()\n",
    "\n",
    "# draw a boundary around the map, fill the background.\n",
    "# this background will end up being the ocean color, since\n",
    "# the continents will be drawn on top.\n",
    "m.drawmapboundary(fill_color='aqua')\n",
    "\n",
    "# fill continents, set lake color same as ocean color.\n",
    "m.fillcontinents(color='white',lake_color='aqua', zorder = 0)\n",
    "\n",
    "# create scatter plot\n",
    "use_colors = {\"functional\": \"green\", \"non functional\": \"red\", \"functional needs repair\": \"blue\"}\n",
    "m.scatter(df_new.longitude.values, df_new.latitude.values, marker = 'o',zorder = 1, latlon=True, alpha = 0.05, \n",
    "          c=[use_colors[x] for x in df_new.status_group],s=30,lw=0)\n",
    "\n",
    "# create legend\n",
    "line1 = plt.Line2D(range(1), range(1), color=\"white\", marker='o',markerfacecolor=\"blue\", markersize = 6)\n",
    "line2 = plt.Line2D(range(1), range(1), color=\"white\", marker='o',markerfacecolor=\"green\", markersize = 6)\n",
    "line3 = plt.Line2D(range(1), range(1), color=\"white\", marker='o',markerfacecolor=\"red\", markersize = 6)\n",
    "plt.legend((line1,line2,line3),(\"functional need repair\",\"functional\",\"non functional\"),numpoints=1, loc=1)\n",
    "\n",
    "plt.show()"
   ]
  },
  {
   "cell_type": "code",
   "execution_count": null,
   "metadata": {
    "collapsed": true
   },
   "outputs": [],
   "source": []
  }
 ],
 "metadata": {
  "kernelspec": {
   "display_name": "Python 2",
   "language": "python",
   "name": "python2"
  },
  "language_info": {
   "codemirror_mode": {
    "name": "ipython",
    "version": 2
   },
   "file_extension": ".py",
   "mimetype": "text/x-python",
   "name": "python",
   "nbconvert_exporter": "python",
   "pygments_lexer": "ipython2",
   "version": "2.7.10"
  }
 },
 "nbformat": 4,
 "nbformat_minor": 0
}
