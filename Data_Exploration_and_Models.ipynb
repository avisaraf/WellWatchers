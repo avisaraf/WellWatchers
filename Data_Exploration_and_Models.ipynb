{
 "cells": [
  {
   "cell_type": "markdown",
   "metadata": {},
   "source": [
    "# Predicting the Status of Wells Across Tanzania\n",
    "\n",
    "Exploration done by WellWatchers Avi Saraf, Lily Zhang, and Cindy Zhao."
   ]
  },
  {
   "cell_type": "code",
   "execution_count": 1,
   "metadata": {
    "collapsed": true
   },
   "outputs": [],
   "source": [
    "import pandas as pd\n",
    "import numpy as np\n",
    "import matplotlib.pyplot as plt\n",
    "%matplotlib inline\n",
    "import seaborn as sns\n",
    "sns.set_style(\"whitegrid\")\n",
    "sns.set_context(\"poster\")"
   ]
  },
  {
   "cell_type": "markdown",
   "metadata": {},
   "source": [
    "###Data preparation"
   ]
  },
  {
   "cell_type": "code",
   "execution_count": 2,
   "metadata": {
    "collapsed": true
   },
   "outputs": [],
   "source": [
    "df_values = pd.read_csv(\"clean_training_set_values.csv\")\n",
    "df_labels = pd.read_csv(\"training_set_labels.csv\")"
   ]
  },
  {
   "cell_type": "code",
   "execution_count": 3,
   "metadata": {
    "collapsed": true
   },
   "outputs": [],
   "source": [
    "#merge the features (i.e. values) and the labels into one DataFrame\n",
    "df = pd.merge(df_values, df_labels, on=\"id\")"
   ]
  },
  {
   "cell_type": "code",
   "execution_count": 4,
   "metadata": {
    "collapsed": false
   },
   "outputs": [
    {
     "data": {
      "text/html": [
       "<div>\n",
       "<table border=\"1\" class=\"dataframe\">\n",
       "  <thead>\n",
       "    <tr style=\"text-align: right;\">\n",
       "      <th></th>\n",
       "      <th>id</th>\n",
       "      <th>amount_tsh</th>\n",
       "      <th>funder</th>\n",
       "      <th>gps_height</th>\n",
       "      <th>installer</th>\n",
       "      <th>longitude</th>\n",
       "      <th>latitude</th>\n",
       "      <th>basin</th>\n",
       "      <th>subvillage</th>\n",
       "      <th>region</th>\n",
       "      <th>...</th>\n",
       "      <th>quantity</th>\n",
       "      <th>quantity_group</th>\n",
       "      <th>source</th>\n",
       "      <th>source_type</th>\n",
       "      <th>source_class</th>\n",
       "      <th>waterpoint_type</th>\n",
       "      <th>waterpoint_type_group</th>\n",
       "      <th>date_recorded_offset_days</th>\n",
       "      <th>date_recorded_month</th>\n",
       "      <th>status_group</th>\n",
       "    </tr>\n",
       "  </thead>\n",
       "  <tbody>\n",
       "    <tr>\n",
       "      <th>0</th>\n",
       "      <td>69572</td>\n",
       "      <td>6000</td>\n",
       "      <td>Other</td>\n",
       "      <td>1390</td>\n",
       "      <td>Other</td>\n",
       "      <td>34.938093</td>\n",
       "      <td>-9.856322</td>\n",
       "      <td>Lake Nyasa</td>\n",
       "      <td>Mnyusi B</td>\n",
       "      <td>Iringa</td>\n",
       "      <td>...</td>\n",
       "      <td>enough</td>\n",
       "      <td>enough</td>\n",
       "      <td>spring</td>\n",
       "      <td>spring</td>\n",
       "      <td>groundwater</td>\n",
       "      <td>communal standpipe</td>\n",
       "      <td>communal standpipe</td>\n",
       "      <td>1024</td>\n",
       "      <td>Mar</td>\n",
       "      <td>functional</td>\n",
       "    </tr>\n",
       "    <tr>\n",
       "      <th>1</th>\n",
       "      <td>8776</td>\n",
       "      <td>0</td>\n",
       "      <td>Other</td>\n",
       "      <td>1399</td>\n",
       "      <td>Other</td>\n",
       "      <td>34.698766</td>\n",
       "      <td>-2.147466</td>\n",
       "      <td>Lake Victoria</td>\n",
       "      <td>Nyamara</td>\n",
       "      <td>Mara</td>\n",
       "      <td>...</td>\n",
       "      <td>insufficient</td>\n",
       "      <td>insufficient</td>\n",
       "      <td>rainwater harvesting</td>\n",
       "      <td>rainwater harvesting</td>\n",
       "      <td>surface</td>\n",
       "      <td>communal standpipe</td>\n",
       "      <td>communal standpipe</td>\n",
       "      <td>301</td>\n",
       "      <td>Mar</td>\n",
       "      <td>functional</td>\n",
       "    </tr>\n",
       "    <tr>\n",
       "      <th>2</th>\n",
       "      <td>34310</td>\n",
       "      <td>25</td>\n",
       "      <td>Other</td>\n",
       "      <td>686</td>\n",
       "      <td>Other</td>\n",
       "      <td>37.460664</td>\n",
       "      <td>-3.821329</td>\n",
       "      <td>Pangani</td>\n",
       "      <td>Majengo</td>\n",
       "      <td>Manyara</td>\n",
       "      <td>...</td>\n",
       "      <td>enough</td>\n",
       "      <td>enough</td>\n",
       "      <td>dam</td>\n",
       "      <td>dam</td>\n",
       "      <td>surface</td>\n",
       "      <td>communal standpipe multiple</td>\n",
       "      <td>communal standpipe</td>\n",
       "      <td>310</td>\n",
       "      <td>Feb</td>\n",
       "      <td>functional</td>\n",
       "    </tr>\n",
       "    <tr>\n",
       "      <th>3</th>\n",
       "      <td>67743</td>\n",
       "      <td>0</td>\n",
       "      <td>Unicef</td>\n",
       "      <td>263</td>\n",
       "      <td>Other</td>\n",
       "      <td>38.486161</td>\n",
       "      <td>-11.155298</td>\n",
       "      <td>Ruvuma / Southern Coast</td>\n",
       "      <td>Mahakamani</td>\n",
       "      <td>Mtwara</td>\n",
       "      <td>...</td>\n",
       "      <td>dry</td>\n",
       "      <td>dry</td>\n",
       "      <td>machine dbh</td>\n",
       "      <td>borehole</td>\n",
       "      <td>groundwater</td>\n",
       "      <td>communal standpipe multiple</td>\n",
       "      <td>communal standpipe</td>\n",
       "      <td>338</td>\n",
       "      <td>Jan</td>\n",
       "      <td>non functional</td>\n",
       "    </tr>\n",
       "    <tr>\n",
       "      <th>4</th>\n",
       "      <td>19728</td>\n",
       "      <td>0</td>\n",
       "      <td>Other</td>\n",
       "      <td>0</td>\n",
       "      <td>Other</td>\n",
       "      <td>31.130847</td>\n",
       "      <td>-1.825359</td>\n",
       "      <td>Lake Victoria</td>\n",
       "      <td>Kyanyamisa</td>\n",
       "      <td>Kagera</td>\n",
       "      <td>...</td>\n",
       "      <td>seasonal</td>\n",
       "      <td>seasonal</td>\n",
       "      <td>rainwater harvesting</td>\n",
       "      <td>rainwater harvesting</td>\n",
       "      <td>surface</td>\n",
       "      <td>communal standpipe</td>\n",
       "      <td>communal standpipe</td>\n",
       "      <td>903</td>\n",
       "      <td>Jul</td>\n",
       "      <td>functional</td>\n",
       "    </tr>\n",
       "  </tbody>\n",
       "</table>\n",
       "<p>5 rows × 34 columns</p>\n",
       "</div>"
      ],
      "text/plain": [
       "      id  amount_tsh  funder  gps_height installer  longitude   latitude  \\\n",
       "0  69572        6000   Other        1390     Other  34.938093  -9.856322   \n",
       "1   8776           0   Other        1399     Other  34.698766  -2.147466   \n",
       "2  34310          25   Other         686     Other  37.460664  -3.821329   \n",
       "3  67743           0  Unicef         263     Other  38.486161 -11.155298   \n",
       "4  19728           0   Other           0     Other  31.130847  -1.825359   \n",
       "\n",
       "                     basin  subvillage   region       ...            quantity  \\\n",
       "0               Lake Nyasa    Mnyusi B   Iringa       ...              enough   \n",
       "1            Lake Victoria     Nyamara     Mara       ...        insufficient   \n",
       "2                  Pangani     Majengo  Manyara       ...              enough   \n",
       "3  Ruvuma / Southern Coast  Mahakamani   Mtwara       ...                 dry   \n",
       "4            Lake Victoria  Kyanyamisa   Kagera       ...            seasonal   \n",
       "\n",
       "  quantity_group                source           source_type source_class  \\\n",
       "0         enough                spring                spring  groundwater   \n",
       "1   insufficient  rainwater harvesting  rainwater harvesting      surface   \n",
       "2         enough                   dam                   dam      surface   \n",
       "3            dry           machine dbh              borehole  groundwater   \n",
       "4       seasonal  rainwater harvesting  rainwater harvesting      surface   \n",
       "\n",
       "               waterpoint_type waterpoint_type_group  \\\n",
       "0           communal standpipe    communal standpipe   \n",
       "1           communal standpipe    communal standpipe   \n",
       "2  communal standpipe multiple    communal standpipe   \n",
       "3  communal standpipe multiple    communal standpipe   \n",
       "4           communal standpipe    communal standpipe   \n",
       "\n",
       "  date_recorded_offset_days date_recorded_month    status_group  \n",
       "0                      1024                 Mar      functional  \n",
       "1                       301                 Mar      functional  \n",
       "2                       310                 Feb      functional  \n",
       "3                       338                 Jan  non functional  \n",
       "4                       903                 Jul      functional  \n",
       "\n",
       "[5 rows x 34 columns]"
      ]
     },
     "execution_count": 4,
     "metadata": {},
     "output_type": "execute_result"
    }
   ],
   "source": [
    "df.head()"
   ]
  },
  {
   "cell_type": "code",
   "execution_count": 22,
   "metadata": {
    "collapsed": false
   },
   "outputs": [
    {
     "data": {
      "text/plain": [
       "Index([u'id', u'amount_tsh', u'funder', u'gps_height', u'installer',\n",
       "       u'longitude', u'latitude', u'basin', u'subvillage', u'region',\n",
       "       u'population', u'public_meeting', u'scheme_management', u'permit',\n",
       "       u'construction_year', u'extraction_type', u'extraction_type_group',\n",
       "       u'extraction_type_class', u'management', u'management_group',\n",
       "       u'payment', u'payment_type', u'water_quality', u'quality_group',\n",
       "       u'quantity', u'quantity_group', u'source', u'source_type',\n",
       "       u'source_class', u'waterpoint_type', u'waterpoint_type_group',\n",
       "       u'date_recorded_offset_days', u'date_recorded_month', u'status_group'],\n",
       "      dtype='object')"
      ]
     },
     "execution_count": 22,
     "metadata": {},
     "output_type": "execute_result"
    }
   ],
   "source": [
    "df.columns"
   ]
  },
  {
   "cell_type": "markdown",
   "metadata": {},
   "source": [
    "# Exploratory analysis\n",
    "\n",
    "## Numerical Features\n",
    "- amount_tsh - Total static head (amount of water available to waterpoint)\n",
    "- gps_height - Altitude of the well\n",
    "- latitude/longitude\n",
    "- date_recorded_offset_days - # of days between installation and date of recording\n",
    "- quantity - The quantity of water\n",
    "\n",
    "\n",
    "## Categorical Features\n",
    "\n",
    "We have the following categorical variables:\n",
    "- funder\n",
    "- installer\n",
    "- basin\n",
    "- subvillage\n",
    "- region\n",
    "- scheme_management\n",
    "- management\n",
    "- management_group\n",
    "- public_meeting (T/F)\n",
    "- permit (T/F)\n",
    "- extraction_type\n",
    "- extraction_type_group\n",
    "- extraction_type_class\n",
    "- payment\n",
    "- payment_type\n",
    "- water_quality\n",
    "- quality_group\n",
    "- waterpoint_type\n",
    "- waterpoint_type_group\n",
    "\n",
    "Here we see the unique values under the columns with categorical values."
   ]
  },
  {
   "cell_type": "markdown",
   "metadata": {},
   "source": [
    "###Redundancies\n",
    "We see that some of the columns describe the same feature but have slightly different sets of values. This is particularly the case with features that also have a corresponding '_ _group_' column as well. For now, we will stick with the non-group features because they are more specific."
   ]
  },
  {
   "cell_type": "code",
   "execution_count": 5,
   "metadata": {
    "collapsed": false
   },
   "outputs": [
    {
     "name": "stdout",
     "output_type": "stream",
     "text": [
      "['gravity' 'submersible' 'swn 80' 'nira/tanira' 'india mark ii' 'other'\n",
      " 'ksb' 'mono' 'windmill' 'afridev' 'other - rope pump' 'india mark iii'\n",
      " 'other - swn 81' 'other - play pump' 'cemo' 'climax' 'walimi']\n",
      "['gravity' 'submersible' 'swn 80' 'nira/tanira' 'india mark ii' 'other'\n",
      " 'mono' 'wind-powered' 'afridev' 'rope pump' 'india mark iii'\n",
      " 'other handpump' 'other motorpump']\n",
      "['gravity' 'submersible' 'handpump' 'other' 'motorpump' 'wind-powered'\n",
      " 'rope pump']\n"
     ]
    }
   ],
   "source": [
    "print pd.Series(df.extraction_type.ravel()).unique()\n",
    "#less specific\n",
    "print pd.Series(df.extraction_type_group.ravel()).unique()\n",
    "print pd.Series(df.extraction_type_class.ravel()).unique()"
   ]
  },
  {
   "cell_type": "code",
   "execution_count": 6,
   "metadata": {
    "collapsed": false
   },
   "outputs": [
    {
     "name": "stdout",
     "output_type": "stream",
     "text": [
      "['pay annually' 'never pay' 'pay per bucket' 'unknown'\n",
      " 'pay when scheme fails' 'other' 'pay monthly']\n",
      "['annually' 'never pay' 'per bucket' 'unknown' 'on failure' 'other'\n",
      " 'monthly']\n"
     ]
    }
   ],
   "source": [
    "#equivalent\n",
    "print pd.Series(df.payment.ravel()).unique()\n",
    "print pd.Series(df.payment_type.ravel()).unique()"
   ]
  },
  {
   "cell_type": "code",
   "execution_count": 7,
   "metadata": {
    "collapsed": false
   },
   "outputs": [
    {
     "name": "stdout",
     "output_type": "stream",
     "text": [
      "['communal standpipe' 'communal standpipe multiple' 'hand pump' 'other'\n",
      " 'improved spring' 'cattle trough' 'dam']\n",
      "['communal standpipe' 'hand pump' 'other' 'improved spring' 'cattle trough'\n",
      " 'dam']\n"
     ]
    }
   ],
   "source": [
    "#the difference here is the addition of 'communal standpipe multiple' in waterpoint_type\n",
    "print pd.Series(df.waterpoint_type.ravel()).unique()\n",
    "#less specific\n",
    "print pd.Series(df.waterpoint_type_group.ravel()).unique()"
   ]
  },
  {
   "cell_type": "code",
   "execution_count": 8,
   "metadata": {
    "collapsed": false
   },
   "outputs": [
    {
     "name": "stdout",
     "output_type": "stream",
     "text": [
      "['soft' 'salty' 'milky' 'unknown' 'fluoride' 'coloured' 'salty abandoned'\n",
      " 'fluoride abandoned']\n",
      "['good' 'salty' 'milky' 'unknown' 'fluoride' 'colored']\n"
     ]
    }
   ],
   "source": [
    "print pd.Series(df.water_quality.ravel()).unique()\n",
    "#less specific\n",
    "print pd.Series(df.quality_group.ravel()).unique()"
   ]
  },
  {
   "cell_type": "code",
   "execution_count": 9,
   "metadata": {
    "collapsed": false
   },
   "outputs": [
    {
     "name": "stdout",
     "output_type": "stream",
     "text": [
      "['spring' 'rainwater harvesting' 'dam' 'borehole' 'other' 'shallow well'\n",
      " 'river/lake']\n",
      "['spring' 'rainwater harvesting' 'dam' 'machine dbh' 'other' 'shallow well'\n",
      " 'river' 'hand dtw' 'lake' 'unknown']\n",
      "['groundwater' 'surface' 'unknown']\n"
     ]
    }
   ],
   "source": [
    "#less specific\n",
    "#'borehole' includes 'machine dbh' and 'hand dtw'\n",
    "#'river/lake' includes 'river' and 'lake'\n",
    "#'other' includes 'other' and 'unknown'\n",
    "print pd.Series(df.source_type.ravel()).unique()\n",
    "print pd.Series(df.source.values.ravel()).unique()\n",
    "#source and source_type are nested within source_class\n",
    "print pd.Series(df.source_class.values.ravel()).unique()"
   ]
  },
  {
   "cell_type": "code",
   "execution_count": 10,
   "metadata": {
    "collapsed": false
   },
   "outputs": [
    {
     "name": "stdout",
     "output_type": "stream",
     "text": [
      "['vwc' 'wug' 'other' 'private operator' 'water board' 'wua' 'company'\n",
      " 'water authority' 'parastatal' 'unknown' 'other - school' 'trust']\n",
      "['user-group' 'other' 'commercial' 'parastatal' 'unknown']\n"
     ]
    }
   ],
   "source": [
    "#management is nested within management_group\n",
    "print pd.Series(df.management.ravel()).unique()\n",
    "print pd.Series(df.management_group.ravel()).unique()"
   ]
  },
  {
   "cell_type": "markdown",
   "metadata": {},
   "source": [
    "We see that some of these features are redundant, so we delete one of the columns of these repeats. Regarding the features/feature_group label pairs, there is a nesting structure but it is so slight that we just delete one of the columns; otherwise, we would most likely run into problems of collinearity. We have two new dataframes, one with only the feature_group labels (less specific), and one with only the feature labels (more specific). We will try our regression on the more specific df_new but keep df_new1 just in case."
   ]
  },
  {
   "cell_type": "code",
   "execution_count": 11,
   "metadata": {
    "collapsed": false
   },
   "outputs": [],
   "source": [
    "df_new = df.drop(['quantity_group','extraction_type_group','waterpoint_type_group','quality_group','source_type','payment'], axis=1)\n",
    "df_new1 = df.drop(['quantity_group','extraction_type','waterpoint_type','quality_group','source','payment'], axis=1)"
   ]
  },
  {
   "cell_type": "code",
   "execution_count": 12,
   "metadata": {
    "collapsed": false,
    "scrolled": true
   },
   "outputs": [
    {
     "data": {
      "text/html": [
       "<div>\n",
       "<table border=\"1\" class=\"dataframe\">\n",
       "  <thead>\n",
       "    <tr style=\"text-align: right;\">\n",
       "      <th></th>\n",
       "      <th>id</th>\n",
       "      <th>amount_tsh</th>\n",
       "      <th>funder</th>\n",
       "      <th>gps_height</th>\n",
       "      <th>installer</th>\n",
       "      <th>longitude</th>\n",
       "      <th>latitude</th>\n",
       "      <th>basin</th>\n",
       "      <th>subvillage</th>\n",
       "      <th>region</th>\n",
       "      <th>...</th>\n",
       "      <th>management_group</th>\n",
       "      <th>payment_type</th>\n",
       "      <th>water_quality</th>\n",
       "      <th>quantity</th>\n",
       "      <th>source</th>\n",
       "      <th>source_class</th>\n",
       "      <th>waterpoint_type</th>\n",
       "      <th>date_recorded_offset_days</th>\n",
       "      <th>date_recorded_month</th>\n",
       "      <th>status_group</th>\n",
       "    </tr>\n",
       "  </thead>\n",
       "  <tbody>\n",
       "    <tr>\n",
       "      <th>0</th>\n",
       "      <td>69572</td>\n",
       "      <td>6000</td>\n",
       "      <td>Other</td>\n",
       "      <td>1390</td>\n",
       "      <td>Other</td>\n",
       "      <td>34.938093</td>\n",
       "      <td>-9.856322</td>\n",
       "      <td>Lake Nyasa</td>\n",
       "      <td>Mnyusi B</td>\n",
       "      <td>Iringa</td>\n",
       "      <td>...</td>\n",
       "      <td>user-group</td>\n",
       "      <td>annually</td>\n",
       "      <td>soft</td>\n",
       "      <td>enough</td>\n",
       "      <td>spring</td>\n",
       "      <td>groundwater</td>\n",
       "      <td>communal standpipe</td>\n",
       "      <td>1024</td>\n",
       "      <td>Mar</td>\n",
       "      <td>functional</td>\n",
       "    </tr>\n",
       "    <tr>\n",
       "      <th>1</th>\n",
       "      <td>8776</td>\n",
       "      <td>0</td>\n",
       "      <td>Other</td>\n",
       "      <td>1399</td>\n",
       "      <td>Other</td>\n",
       "      <td>34.698766</td>\n",
       "      <td>-2.147466</td>\n",
       "      <td>Lake Victoria</td>\n",
       "      <td>Nyamara</td>\n",
       "      <td>Mara</td>\n",
       "      <td>...</td>\n",
       "      <td>user-group</td>\n",
       "      <td>never pay</td>\n",
       "      <td>soft</td>\n",
       "      <td>insufficient</td>\n",
       "      <td>rainwater harvesting</td>\n",
       "      <td>surface</td>\n",
       "      <td>communal standpipe</td>\n",
       "      <td>301</td>\n",
       "      <td>Mar</td>\n",
       "      <td>functional</td>\n",
       "    </tr>\n",
       "    <tr>\n",
       "      <th>2</th>\n",
       "      <td>34310</td>\n",
       "      <td>25</td>\n",
       "      <td>Other</td>\n",
       "      <td>686</td>\n",
       "      <td>Other</td>\n",
       "      <td>37.460664</td>\n",
       "      <td>-3.821329</td>\n",
       "      <td>Pangani</td>\n",
       "      <td>Majengo</td>\n",
       "      <td>Manyara</td>\n",
       "      <td>...</td>\n",
       "      <td>user-group</td>\n",
       "      <td>per bucket</td>\n",
       "      <td>soft</td>\n",
       "      <td>enough</td>\n",
       "      <td>dam</td>\n",
       "      <td>surface</td>\n",
       "      <td>communal standpipe multiple</td>\n",
       "      <td>310</td>\n",
       "      <td>Feb</td>\n",
       "      <td>functional</td>\n",
       "    </tr>\n",
       "    <tr>\n",
       "      <th>3</th>\n",
       "      <td>67743</td>\n",
       "      <td>0</td>\n",
       "      <td>Unicef</td>\n",
       "      <td>263</td>\n",
       "      <td>Other</td>\n",
       "      <td>38.486161</td>\n",
       "      <td>-11.155298</td>\n",
       "      <td>Ruvuma / Southern Coast</td>\n",
       "      <td>Mahakamani</td>\n",
       "      <td>Mtwara</td>\n",
       "      <td>...</td>\n",
       "      <td>user-group</td>\n",
       "      <td>never pay</td>\n",
       "      <td>soft</td>\n",
       "      <td>dry</td>\n",
       "      <td>machine dbh</td>\n",
       "      <td>groundwater</td>\n",
       "      <td>communal standpipe multiple</td>\n",
       "      <td>338</td>\n",
       "      <td>Jan</td>\n",
       "      <td>non functional</td>\n",
       "    </tr>\n",
       "    <tr>\n",
       "      <th>4</th>\n",
       "      <td>19728</td>\n",
       "      <td>0</td>\n",
       "      <td>Other</td>\n",
       "      <td>0</td>\n",
       "      <td>Other</td>\n",
       "      <td>31.130847</td>\n",
       "      <td>-1.825359</td>\n",
       "      <td>Lake Victoria</td>\n",
       "      <td>Kyanyamisa</td>\n",
       "      <td>Kagera</td>\n",
       "      <td>...</td>\n",
       "      <td>other</td>\n",
       "      <td>never pay</td>\n",
       "      <td>soft</td>\n",
       "      <td>seasonal</td>\n",
       "      <td>rainwater harvesting</td>\n",
       "      <td>surface</td>\n",
       "      <td>communal standpipe</td>\n",
       "      <td>903</td>\n",
       "      <td>Jul</td>\n",
       "      <td>functional</td>\n",
       "    </tr>\n",
       "    <tr>\n",
       "      <th>5</th>\n",
       "      <td>9944</td>\n",
       "      <td>20</td>\n",
       "      <td>Other</td>\n",
       "      <td>0</td>\n",
       "      <td>DWE</td>\n",
       "      <td>39.172796</td>\n",
       "      <td>-4.765587</td>\n",
       "      <td>Pangani</td>\n",
       "      <td>Moa/Mwereme</td>\n",
       "      <td>Tanga</td>\n",
       "      <td>...</td>\n",
       "      <td>user-group</td>\n",
       "      <td>per bucket</td>\n",
       "      <td>salty</td>\n",
       "      <td>enough</td>\n",
       "      <td>other</td>\n",
       "      <td>unknown</td>\n",
       "      <td>communal standpipe multiple</td>\n",
       "      <td>1025</td>\n",
       "      <td>Mar</td>\n",
       "      <td>functional</td>\n",
       "    </tr>\n",
       "    <tr>\n",
       "      <th>6</th>\n",
       "      <td>19816</td>\n",
       "      <td>0</td>\n",
       "      <td>Other</td>\n",
       "      <td>0</td>\n",
       "      <td>Other</td>\n",
       "      <td>33.362410</td>\n",
       "      <td>-3.766365</td>\n",
       "      <td>Internal</td>\n",
       "      <td>Ishinabulandi</td>\n",
       "      <td>Shinyanga</td>\n",
       "      <td>...</td>\n",
       "      <td>user-group</td>\n",
       "      <td>never pay</td>\n",
       "      <td>soft</td>\n",
       "      <td>enough</td>\n",
       "      <td>machine dbh</td>\n",
       "      <td>groundwater</td>\n",
       "      <td>hand pump</td>\n",
       "      <td>457</td>\n",
       "      <td>Oct</td>\n",
       "      <td>non functional</td>\n",
       "    </tr>\n",
       "    <tr>\n",
       "      <th>7</th>\n",
       "      <td>54551</td>\n",
       "      <td>0</td>\n",
       "      <td>Rwssp</td>\n",
       "      <td>0</td>\n",
       "      <td>DWE</td>\n",
       "      <td>32.620617</td>\n",
       "      <td>-4.226198</td>\n",
       "      <td>Lake Tanganyika</td>\n",
       "      <td>Nyawishi Center</td>\n",
       "      <td>Shinyanga</td>\n",
       "      <td>...</td>\n",
       "      <td>user-group</td>\n",
       "      <td>unknown</td>\n",
       "      <td>milky</td>\n",
       "      <td>enough</td>\n",
       "      <td>shallow well</td>\n",
       "      <td>groundwater</td>\n",
       "      <td>hand pump</td>\n",
       "      <td>449</td>\n",
       "      <td>Oct</td>\n",
       "      <td>non functional</td>\n",
       "    </tr>\n",
       "    <tr>\n",
       "      <th>8</th>\n",
       "      <td>53934</td>\n",
       "      <td>0</td>\n",
       "      <td>Other</td>\n",
       "      <td>0</td>\n",
       "      <td>Other</td>\n",
       "      <td>32.711100</td>\n",
       "      <td>-5.146712</td>\n",
       "      <td>Lake Tanganyika</td>\n",
       "      <td>Imalauduki</td>\n",
       "      <td>Tabora</td>\n",
       "      <td>...</td>\n",
       "      <td>user-group</td>\n",
       "      <td>never pay</td>\n",
       "      <td>salty</td>\n",
       "      <td>seasonal</td>\n",
       "      <td>machine dbh</td>\n",
       "      <td>groundwater</td>\n",
       "      <td>hand pump</td>\n",
       "      <td>424</td>\n",
       "      <td>Nov</td>\n",
       "      <td>non functional</td>\n",
       "    </tr>\n",
       "    <tr>\n",
       "      <th>9</th>\n",
       "      <td>46144</td>\n",
       "      <td>0</td>\n",
       "      <td>Other</td>\n",
       "      <td>0</td>\n",
       "      <td>Other</td>\n",
       "      <td>30.626991</td>\n",
       "      <td>-1.257051</td>\n",
       "      <td>Lake Victoria</td>\n",
       "      <td>Mkonomre</td>\n",
       "      <td>Kagera</td>\n",
       "      <td>...</td>\n",
       "      <td>user-group</td>\n",
       "      <td>never pay</td>\n",
       "      <td>soft</td>\n",
       "      <td>enough</td>\n",
       "      <td>shallow well</td>\n",
       "      <td>groundwater</td>\n",
       "      <td>hand pump</td>\n",
       "      <td>882</td>\n",
       "      <td>Aug</td>\n",
       "      <td>functional</td>\n",
       "    </tr>\n",
       "    <tr>\n",
       "      <th>10</th>\n",
       "      <td>49056</td>\n",
       "      <td>0</td>\n",
       "      <td>Other</td>\n",
       "      <td>62</td>\n",
       "      <td>Other</td>\n",
       "      <td>39.209518</td>\n",
       "      <td>-7.034139</td>\n",
       "      <td>Wami / Ruvu</td>\n",
       "      <td>Mizugo</td>\n",
       "      <td>Pwani</td>\n",
       "      <td>...</td>\n",
       "      <td>commercial</td>\n",
       "      <td>never pay</td>\n",
       "      <td>salty</td>\n",
       "      <td>enough</td>\n",
       "      <td>machine dbh</td>\n",
       "      <td>groundwater</td>\n",
       "      <td>other</td>\n",
       "      <td>1046</td>\n",
       "      <td>Feb</td>\n",
       "      <td>functional</td>\n",
       "    </tr>\n",
       "    <tr>\n",
       "      <th>11</th>\n",
       "      <td>50409</td>\n",
       "      <td>200</td>\n",
       "      <td>Danida</td>\n",
       "      <td>1062</td>\n",
       "      <td>DANIDA</td>\n",
       "      <td>35.770258</td>\n",
       "      <td>-10.574175</td>\n",
       "      <td>Lake Nyasa</td>\n",
       "      <td>Ngondombwito</td>\n",
       "      <td>Ruvuma</td>\n",
       "      <td>...</td>\n",
       "      <td>user-group</td>\n",
       "      <td>on failure</td>\n",
       "      <td>soft</td>\n",
       "      <td>insufficient</td>\n",
       "      <td>shallow well</td>\n",
       "      <td>groundwater</td>\n",
       "      <td>hand pump</td>\n",
       "      <td>317</td>\n",
       "      <td>Feb</td>\n",
       "      <td>functional</td>\n",
       "    </tr>\n",
       "    <tr>\n",
       "      <th>12</th>\n",
       "      <td>36957</td>\n",
       "      <td>0</td>\n",
       "      <td>World Vision</td>\n",
       "      <td>0</td>\n",
       "      <td>Other</td>\n",
       "      <td>33.798106</td>\n",
       "      <td>-3.290194</td>\n",
       "      <td>Internal</td>\n",
       "      <td>Nkilifa</td>\n",
       "      <td>Shinyanga</td>\n",
       "      <td>...</td>\n",
       "      <td>user-group</td>\n",
       "      <td>other</td>\n",
       "      <td>soft</td>\n",
       "      <td>enough</td>\n",
       "      <td>shallow well</td>\n",
       "      <td>groundwater</td>\n",
       "      <td>hand pump</td>\n",
       "      <td>444</td>\n",
       "      <td>Oct</td>\n",
       "      <td>functional</td>\n",
       "    </tr>\n",
       "    <tr>\n",
       "      <th>13</th>\n",
       "      <td>50495</td>\n",
       "      <td>0</td>\n",
       "      <td>Other</td>\n",
       "      <td>1368</td>\n",
       "      <td>Other</td>\n",
       "      <td>37.092574</td>\n",
       "      <td>-3.181783</td>\n",
       "      <td>Pangani</td>\n",
       "      <td>Omarini</td>\n",
       "      <td>Kilimanjaro</td>\n",
       "      <td>...</td>\n",
       "      <td>user-group</td>\n",
       "      <td>monthly</td>\n",
       "      <td>soft</td>\n",
       "      <td>enough</td>\n",
       "      <td>spring</td>\n",
       "      <td>groundwater</td>\n",
       "      <td>communal standpipe</td>\n",
       "      <td>292</td>\n",
       "      <td>Mar</td>\n",
       "      <td>functional</td>\n",
       "    </tr>\n",
       "    <tr>\n",
       "      <th>14</th>\n",
       "      <td>53752</td>\n",
       "      <td>0</td>\n",
       "      <td>Other</td>\n",
       "      <td>0</td>\n",
       "      <td>Other</td>\n",
       "      <td>34.364073</td>\n",
       "      <td>-3.629333</td>\n",
       "      <td>Internal</td>\n",
       "      <td>Mwabasabi</td>\n",
       "      <td>Shinyanga</td>\n",
       "      <td>...</td>\n",
       "      <td>user-group</td>\n",
       "      <td>never pay</td>\n",
       "      <td>soft</td>\n",
       "      <td>enough</td>\n",
       "      <td>shallow well</td>\n",
       "      <td>groundwater</td>\n",
       "      <td>hand pump</td>\n",
       "      <td>438</td>\n",
       "      <td>Oct</td>\n",
       "      <td>functional</td>\n",
       "    </tr>\n",
       "    <tr>\n",
       "      <th>15</th>\n",
       "      <td>61848</td>\n",
       "      <td>0</td>\n",
       "      <td>Other</td>\n",
       "      <td>1645</td>\n",
       "      <td>DWE</td>\n",
       "      <td>31.444121</td>\n",
       "      <td>-8.274962</td>\n",
       "      <td>Lake Tanganyika</td>\n",
       "      <td>Tunzi</td>\n",
       "      <td>Rukwa</td>\n",
       "      <td>...</td>\n",
       "      <td>user-group</td>\n",
       "      <td>never pay</td>\n",
       "      <td>soft</td>\n",
       "      <td>enough</td>\n",
       "      <td>machine dbh</td>\n",
       "      <td>groundwater</td>\n",
       "      <td>hand pump</td>\n",
       "      <td>881</td>\n",
       "      <td>Aug</td>\n",
       "      <td>functional</td>\n",
       "    </tr>\n",
       "    <tr>\n",
       "      <th>16</th>\n",
       "      <td>48451</td>\n",
       "      <td>500</td>\n",
       "      <td>Unicef</td>\n",
       "      <td>1703</td>\n",
       "      <td>DWE</td>\n",
       "      <td>34.642439</td>\n",
       "      <td>-9.106185</td>\n",
       "      <td>Rufiji</td>\n",
       "      <td>Kidudumo</td>\n",
       "      <td>Iringa</td>\n",
       "      <td>...</td>\n",
       "      <td>user-group</td>\n",
       "      <td>monthly</td>\n",
       "      <td>soft</td>\n",
       "      <td>dry</td>\n",
       "      <td>river</td>\n",
       "      <td>surface</td>\n",
       "      <td>communal standpipe</td>\n",
       "      <td>912</td>\n",
       "      <td>Jul</td>\n",
       "      <td>non functional</td>\n",
       "    </tr>\n",
       "    <tr>\n",
       "      <th>17</th>\n",
       "      <td>58155</td>\n",
       "      <td>0</td>\n",
       "      <td>Unicef</td>\n",
       "      <td>1656</td>\n",
       "      <td>DWE</td>\n",
       "      <td>34.569266</td>\n",
       "      <td>-9.085515</td>\n",
       "      <td>Rufiji</td>\n",
       "      <td>Yeriko</td>\n",
       "      <td>Iringa</td>\n",
       "      <td>...</td>\n",
       "      <td>user-group</td>\n",
       "      <td>on failure</td>\n",
       "      <td>soft</td>\n",
       "      <td>dry</td>\n",
       "      <td>river</td>\n",
       "      <td>surface</td>\n",
       "      <td>communal standpipe</td>\n",
       "      <td>850</td>\n",
       "      <td>Sep</td>\n",
       "      <td>non functional</td>\n",
       "    </tr>\n",
       "    <tr>\n",
       "      <th>18</th>\n",
       "      <td>34169</td>\n",
       "      <td>0</td>\n",
       "      <td>Hesawa</td>\n",
       "      <td>1162</td>\n",
       "      <td>DWE</td>\n",
       "      <td>32.920154</td>\n",
       "      <td>-1.947868</td>\n",
       "      <td>Lake Victoria</td>\n",
       "      <td>Center</td>\n",
       "      <td>Mwanza</td>\n",
       "      <td>...</td>\n",
       "      <td>user-group</td>\n",
       "      <td>never pay</td>\n",
       "      <td>milky</td>\n",
       "      <td>insufficient</td>\n",
       "      <td>spring</td>\n",
       "      <td>groundwater</td>\n",
       "      <td>other</td>\n",
       "      <td>894</td>\n",
       "      <td>Jul</td>\n",
       "      <td>functional needs repair</td>\n",
       "    </tr>\n",
       "    <tr>\n",
       "      <th>19</th>\n",
       "      <td>18274</td>\n",
       "      <td>500</td>\n",
       "      <td>Danida</td>\n",
       "      <td>1763</td>\n",
       "      <td>Other</td>\n",
       "      <td>34.508967</td>\n",
       "      <td>-9.894412</td>\n",
       "      <td>Lake Nyasa</td>\n",
       "      <td>Manyanya</td>\n",
       "      <td>Iringa</td>\n",
       "      <td>...</td>\n",
       "      <td>user-group</td>\n",
       "      <td>annually</td>\n",
       "      <td>soft</td>\n",
       "      <td>enough</td>\n",
       "      <td>spring</td>\n",
       "      <td>groundwater</td>\n",
       "      <td>communal standpipe</td>\n",
       "      <td>1044</td>\n",
       "      <td>Feb</td>\n",
       "      <td>functional</td>\n",
       "    </tr>\n",
       "  </tbody>\n",
       "</table>\n",
       "<p>20 rows × 28 columns</p>\n",
       "</div>"
      ],
      "text/plain": [
       "       id  amount_tsh        funder  gps_height installer  longitude  \\\n",
       "0   69572        6000         Other        1390     Other  34.938093   \n",
       "1    8776           0         Other        1399     Other  34.698766   \n",
       "2   34310          25         Other         686     Other  37.460664   \n",
       "3   67743           0        Unicef         263     Other  38.486161   \n",
       "4   19728           0         Other           0     Other  31.130847   \n",
       "5    9944          20         Other           0       DWE  39.172796   \n",
       "6   19816           0         Other           0     Other  33.362410   \n",
       "7   54551           0         Rwssp           0       DWE  32.620617   \n",
       "8   53934           0         Other           0     Other  32.711100   \n",
       "9   46144           0         Other           0     Other  30.626991   \n",
       "10  49056           0         Other          62     Other  39.209518   \n",
       "11  50409         200        Danida        1062    DANIDA  35.770258   \n",
       "12  36957           0  World Vision           0     Other  33.798106   \n",
       "13  50495           0         Other        1368     Other  37.092574   \n",
       "14  53752           0         Other           0     Other  34.364073   \n",
       "15  61848           0         Other        1645       DWE  31.444121   \n",
       "16  48451         500        Unicef        1703       DWE  34.642439   \n",
       "17  58155           0        Unicef        1656       DWE  34.569266   \n",
       "18  34169           0        Hesawa        1162       DWE  32.920154   \n",
       "19  18274         500        Danida        1763     Other  34.508967   \n",
       "\n",
       "     latitude                    basin       subvillage       region  \\\n",
       "0   -9.856322               Lake Nyasa         Mnyusi B       Iringa   \n",
       "1   -2.147466            Lake Victoria          Nyamara         Mara   \n",
       "2   -3.821329                  Pangani          Majengo      Manyara   \n",
       "3  -11.155298  Ruvuma / Southern Coast       Mahakamani       Mtwara   \n",
       "4   -1.825359            Lake Victoria       Kyanyamisa       Kagera   \n",
       "5   -4.765587                  Pangani      Moa/Mwereme        Tanga   \n",
       "6   -3.766365                 Internal    Ishinabulandi    Shinyanga   \n",
       "7   -4.226198          Lake Tanganyika  Nyawishi Center    Shinyanga   \n",
       "8   -5.146712          Lake Tanganyika       Imalauduki       Tabora   \n",
       "9   -1.257051            Lake Victoria         Mkonomre       Kagera   \n",
       "10  -7.034139              Wami / Ruvu           Mizugo        Pwani   \n",
       "11 -10.574175               Lake Nyasa     Ngondombwito       Ruvuma   \n",
       "12  -3.290194                 Internal          Nkilifa    Shinyanga   \n",
       "13  -3.181783                  Pangani          Omarini  Kilimanjaro   \n",
       "14  -3.629333                 Internal        Mwabasabi    Shinyanga   \n",
       "15  -8.274962          Lake Tanganyika            Tunzi        Rukwa   \n",
       "16  -9.106185                   Rufiji         Kidudumo       Iringa   \n",
       "17  -9.085515                   Rufiji           Yeriko       Iringa   \n",
       "18  -1.947868            Lake Victoria           Center       Mwanza   \n",
       "19  -9.894412               Lake Nyasa         Manyanya       Iringa   \n",
       "\n",
       "             ...             management_group payment_type water_quality  \\\n",
       "0            ...                   user-group     annually          soft   \n",
       "1            ...                   user-group    never pay          soft   \n",
       "2            ...                   user-group   per bucket          soft   \n",
       "3            ...                   user-group    never pay          soft   \n",
       "4            ...                        other    never pay          soft   \n",
       "5            ...                   user-group   per bucket         salty   \n",
       "6            ...                   user-group    never pay          soft   \n",
       "7            ...                   user-group      unknown         milky   \n",
       "8            ...                   user-group    never pay         salty   \n",
       "9            ...                   user-group    never pay          soft   \n",
       "10           ...                   commercial    never pay         salty   \n",
       "11           ...                   user-group   on failure          soft   \n",
       "12           ...                   user-group        other          soft   \n",
       "13           ...                   user-group      monthly          soft   \n",
       "14           ...                   user-group    never pay          soft   \n",
       "15           ...                   user-group    never pay          soft   \n",
       "16           ...                   user-group      monthly          soft   \n",
       "17           ...                   user-group   on failure          soft   \n",
       "18           ...                   user-group    never pay         milky   \n",
       "19           ...                   user-group     annually          soft   \n",
       "\n",
       "        quantity                source source_class  \\\n",
       "0         enough                spring  groundwater   \n",
       "1   insufficient  rainwater harvesting      surface   \n",
       "2         enough                   dam      surface   \n",
       "3            dry           machine dbh  groundwater   \n",
       "4       seasonal  rainwater harvesting      surface   \n",
       "5         enough                 other      unknown   \n",
       "6         enough           machine dbh  groundwater   \n",
       "7         enough          shallow well  groundwater   \n",
       "8       seasonal           machine dbh  groundwater   \n",
       "9         enough          shallow well  groundwater   \n",
       "10        enough           machine dbh  groundwater   \n",
       "11  insufficient          shallow well  groundwater   \n",
       "12        enough          shallow well  groundwater   \n",
       "13        enough                spring  groundwater   \n",
       "14        enough          shallow well  groundwater   \n",
       "15        enough           machine dbh  groundwater   \n",
       "16           dry                 river      surface   \n",
       "17           dry                 river      surface   \n",
       "18  insufficient                spring  groundwater   \n",
       "19        enough                spring  groundwater   \n",
       "\n",
       "                waterpoint_type date_recorded_offset_days date_recorded_month  \\\n",
       "0            communal standpipe                      1024                 Mar   \n",
       "1            communal standpipe                       301                 Mar   \n",
       "2   communal standpipe multiple                       310                 Feb   \n",
       "3   communal standpipe multiple                       338                 Jan   \n",
       "4            communal standpipe                       903                 Jul   \n",
       "5   communal standpipe multiple                      1025                 Mar   \n",
       "6                     hand pump                       457                 Oct   \n",
       "7                     hand pump                       449                 Oct   \n",
       "8                     hand pump                       424                 Nov   \n",
       "9                     hand pump                       882                 Aug   \n",
       "10                        other                      1046                 Feb   \n",
       "11                    hand pump                       317                 Feb   \n",
       "12                    hand pump                       444                 Oct   \n",
       "13           communal standpipe                       292                 Mar   \n",
       "14                    hand pump                       438                 Oct   \n",
       "15                    hand pump                       881                 Aug   \n",
       "16           communal standpipe                       912                 Jul   \n",
       "17           communal standpipe                       850                 Sep   \n",
       "18                        other                       894                 Jul   \n",
       "19           communal standpipe                      1044                 Feb   \n",
       "\n",
       "               status_group  \n",
       "0                functional  \n",
       "1                functional  \n",
       "2                functional  \n",
       "3            non functional  \n",
       "4                functional  \n",
       "5                functional  \n",
       "6            non functional  \n",
       "7            non functional  \n",
       "8            non functional  \n",
       "9                functional  \n",
       "10               functional  \n",
       "11               functional  \n",
       "12               functional  \n",
       "13               functional  \n",
       "14               functional  \n",
       "15               functional  \n",
       "16           non functional  \n",
       "17           non functional  \n",
       "18  functional needs repair  \n",
       "19               functional  \n",
       "\n",
       "[20 rows x 28 columns]"
      ]
     },
     "execution_count": 12,
     "metadata": {},
     "output_type": "execute_result"
    }
   ],
   "source": [
    "df_new.head(20)"
   ]
  },
  {
   "cell_type": "markdown",
   "metadata": {},
   "source": [
    "###Nestings\n",
    "\n",
    "In df_new, we know that:\n",
    "- management is nested within management_group\n",
    "- source is nested within source_class\n",
    "- extraction is nested within extraction_type_class\n",
    "- subvillage is nested within region"
   ]
  },
  {
   "cell_type": "markdown",
   "metadata": {},
   "source": [
    "###Grouping the types of categorical variables\n",
    "The features dealing with the management of the well include:\n",
    "- funder\n",
    "- installer\n",
    "- scheme_management\n",
    "- management/management_group\n",
    "- payment_type\n",
    "- permit (T/F)\n",
    "\n",
    "The features dealing with the creation of the well include:\n",
    "- extraction/extraction_type_class\n",
    "- waterpoint_type\n",
    "\n",
    "The features dealing with time include: \n",
    "- construction_year\n",
    "- date_recorded_offset_days (int; how long ago it was constructed, from the date recorded)\n",
    "- date_recorded_month\n",
    "\n",
    "The features dealing with natural properties include:\n",
    "- water_quality\n",
    "- source/source_class\n",
    "- amount_tsh\n",
    "- quantity\n",
    "- basin\n",
    "\n",
    "The features dealing with the community using the well and location include:\n",
    "- subvillage\n",
    "- region\n",
    "- population\n",
    "- public_meeting (T/F)\n",
    "- gps_height\n",
    "- longitude\n",
    "- latitude"
   ]
  },
  {
   "cell_type": "code",
   "execution_count": 13,
   "metadata": {
    "collapsed": false,
    "scrolled": true
   },
   "outputs": [
    {
     "data": {
      "text/plain": [
       "Index([u'id', u'amount_tsh', u'funder', u'gps_height', u'installer',\n",
       "       u'longitude', u'latitude', u'basin', u'subvillage', u'region',\n",
       "       u'population', u'public_meeting', u'scheme_management', u'permit',\n",
       "       u'construction_year', u'extraction_type', u'extraction_type_class',\n",
       "       u'management', u'management_group', u'payment_type', u'water_quality',\n",
       "       u'quantity', u'source', u'source_class', u'waterpoint_type',\n",
       "       u'date_recorded_offset_days', u'date_recorded_month', u'status_group'],\n",
       "      dtype='object')"
      ]
     },
     "execution_count": 13,
     "metadata": {},
     "output_type": "execute_result"
    }
   ],
   "source": [
    "df_new.columns"
   ]
  },
  {
   "cell_type": "code",
   "execution_count": 14,
   "metadata": {
    "collapsed": false
   },
   "outputs": [
    {
     "data": {
      "text/plain": [
       "array(['Other', 'Unicef', 'Rwssp', 'Danida', 'World Vision', 'Hesawa',\n",
       "       'Government Of Tanzania', nan, 'Kkkt', 'Tasaf', 'World Bank'], dtype=object)"
      ]
     },
     "execution_count": 14,
     "metadata": {},
     "output_type": "execute_result"
    }
   ],
   "source": [
    "pd.Series(df_new.funder.values.ravel()).unique()"
   ]
  },
  {
   "cell_type": "code",
   "execution_count": null,
   "metadata": {
    "collapsed": true
   },
   "outputs": [],
   "source": []
  },
  {
   "cell_type": "markdown",
   "metadata": {},
   "source": [
    "##Visualizing the feature variables\n",
    "Let's plot these variables now and see how their distributions differ across the functional, non functional, and needs repair wells. "
   ]
  },
  {
   "cell_type": "markdown",
   "metadata": {},
   "source": [
    "We do the same for the categorical variables."
   ]
  },
  {
   "cell_type": "code",
   "execution_count": 18,
   "metadata": {
    "collapsed": false
   },
   "outputs": [
    {
     "name": "stderr",
     "output_type": "stream",
     "text": [
      "/Users/cindyzhao0521/anaconda/lib/python2.7/site-packages/matplotlib/collections.py:590: FutureWarning: elementwise comparison failed; returning scalar instead, but in the future will perform elementwise comparison\n",
      "  if self._edgecolors == str('face'):\n"
     ]
    },
    {
     "data": {
      "image/png": "[encoded data removed]",
      "text/plain": [
       "<matplotlib.figure.Figure at 0x1092f1c90>"
      ]
     },
     "metadata": {},
     "output_type": "display_data"
    }
   ],
   "source": [
    "fig, axes = plt.subplots(nrows=2, ncols=2)\n",
    "#plt.rc('xtick', labelsize=10) \n",
    "#plt.rc('ytick', labelsize=10) \n",
    "for i, feature in enumerate(STANDARDIZABLE):\n",
    "    ax = axes[i/2, i%2]\n",
    "    sns.kdeplot(df_new[df_new['status_group']=='functional'][feature], ax=ax, shade=True,color='green', label=\"Functional wells\")\n",
    "    sns.kdeplot(df_new[df_new['status_group']=='non functional'][feature], ax=ax, shade=True,color='red', label=\"Non Functional Wells\")\n",
    "    sns.kdeplot(df_new[df_new['status_group']=='functional needs repair'][feature], ax=ax, shade=True,color='blue', label=\"Wells that Need Repair\")\n",
    "    ax.set_title(feature)\n"
   ]
  },
  {
   "cell_type": "code",
   "execution_count": 19,
   "metadata": {
    "collapsed": false
   },
   "outputs": [],
   "source": [
    "CATEGORICAL = [u'funder', u'installer', u'basin', u'subvillage', u'region',\n",
    "               u'public_meeting', u'scheme_management', u'permit',\n",
    "               u'extraction_type', u'extraction_type_class',\n",
    "               u'management', u'management_group', u'payment_type', u'water_quality',\n",
    "               u'quantity', u'source', u'source_class', u'waterpoint_type', u'date_recorded_month']\n",
    "for variable in CATEGORICAL:\n",
    "    df_new[variable] = df_new[variable].astype('category')  "
   ]
  },
  {
   "cell_type": "code",
   "execution_count": 20,
   "metadata": {
    "collapsed": false
   },
   "outputs": [
    {
     "data": {
      "text/plain": [
       "([<matplotlib.axis.XTick at 0x10b4bc450>,\n",
       "  <matplotlib.axis.XTick at 0x10b4bc550>,\n",
       "  <matplotlib.axis.XTick at 0x1023c6850>,\n",
       "  <matplotlib.axis.XTick at 0x10b600850>,\n",
       "  <matplotlib.axis.XTick at 0x10b600fd0>,\n",
       "  <matplotlib.axis.XTick at 0x10b60d790>,\n",
       "  <matplotlib.axis.XTick at 0x10b60df10>,\n",
       "  <matplotlib.axis.XTick at 0x10b6176d0>,\n",
       "  <matplotlib.axis.XTick at 0x10b617e50>,\n",
       "  <matplotlib.axis.XTick at 0x10b620610>,\n",
       "  <matplotlib.axis.XTick at 0x10b620d90>],\n",
       " <a list of 11 Text xticklabel objects>)"
      ]
     },
     "execution_count": 20,
     "metadata": {},
     "output_type": "execute_result"
    },
    {
     "data": {
      "image/png": "[encoded data removed]",
      "text/plain": [
       "<matplotlib.figure.Figure at 0x108b7e210>"
      ]
     },
     "metadata": {},
     "output_type": "display_data"
    }
   ],
   "source": [
    "functional = df_new[df_new['status_group']=='functional']['funder'].tolist()\n",
    "non_functional = df_new[df_new['status_group']=='non functional']['funder'].tolist()\n",
    "needs_repair = df_new[df_new['status_group']=='functional needs repair']['funder'].tolist()\n",
    "\n",
    "categories = pd.Series(df_new.funder.values.ravel()).unique()\n",
    "value_freq_funct = []\n",
    "value_freq_nonf = []\n",
    "value_freq_repair = []\n",
    "categories_num = range(1,len(categories)+1)\n",
    "for value in categories:\n",
    "    value_freq_funct.append(functional.count(value))\n",
    "    value_freq_nonf.append(non_functional.count(value))\n",
    "    value_freq_repair.append(needs_repair.count(value))\n",
    "fig.set_size_inches(18.5, 10.5)\n",
    "plt.bar(categories_num,value_freq_funct,align='center',color='g')\n",
    "plt.bar(categories_num,value_freq_nonf,align='center',color='r')\n",
    "plt.bar(categories_num,value_freq_repair,align='center',color='b')\n",
    "plt.xticks(categories_num, categories)"
   ]
  },
  {
   "cell_type": "code",
   "execution_count": 21,
   "metadata": {
    "collapsed": false
   },
   "outputs": [
    {
     "ename": "TypeError",
     "evalue": "'AxesSubplot' object has no attribute '__getitem__'",
     "output_type": "error",
     "traceback": [
      "\u001b[0;31m---------------------------------------------------------------------------\u001b[0m",
      "\u001b[0;31mTypeError\u001b[0m                                 Traceback (most recent call last)",
      "\u001b[0;32m<ipython-input-21-f57922848ee2>\u001b[0m in \u001b[0;36m<module>\u001b[0;34m()\u001b[0m\n\u001b[1;32m      7\u001b[0m     \u001b[0mneeds_repair\u001b[0m \u001b[0;34m=\u001b[0m \u001b[0mdf_new\u001b[0m\u001b[0;34m[\u001b[0m\u001b[0mdf_new\u001b[0m\u001b[0;34m[\u001b[0m\u001b[0;34m'status_group'\u001b[0m\u001b[0;34m]\u001b[0m\u001b[0;34m==\u001b[0m\u001b[0;34m'functional needs repair'\u001b[0m\u001b[0;34m]\u001b[0m\u001b[0;34m[\u001b[0m\u001b[0;34m'funder'\u001b[0m\u001b[0;34m]\u001b[0m\u001b[0;34m.\u001b[0m\u001b[0mtolist\u001b[0m\u001b[0;34m(\u001b[0m\u001b[0;34m)\u001b[0m\u001b[0;34m\u001b[0m\u001b[0m\n\u001b[1;32m      8\u001b[0m     \u001b[0;31m#labels = [\"Positive Response\", \"Negative Response\"]\u001b[0m\u001b[0;34m\u001b[0m\u001b[0;34m\u001b[0m\u001b[0m\n\u001b[0;32m----> 9\u001b[0;31m     \u001b[0max1\u001b[0m\u001b[0;34m[\u001b[0m\u001b[0mj\u001b[0m\u001b[0;34m/\u001b[0m\u001b[0;36m3\u001b[0m\u001b[0;34m,\u001b[0m\u001b[0mj\u001b[0m\u001b[0;34m%\u001b[0m\u001b[0;36m3\u001b[0m\u001b[0;34m]\u001b[0m\u001b[0;34m.\u001b[0m\u001b[0mhist\u001b[0m\u001b[0;34m(\u001b[0m\u001b[0;34m[\u001b[0m\u001b[0mpos_resp\u001b[0m\u001b[0;34m,\u001b[0m\u001b[0mneg_resp\u001b[0m\u001b[0;34m]\u001b[0m\u001b[0;34m,\u001b[0m \u001b[0mlabel\u001b[0m\u001b[0;34m=\u001b[0m\u001b[0;34m[\u001b[0m\u001b[0;34m\"Positive Response\"\u001b[0m\u001b[0;34m,\u001b[0m\u001b[0;34m\"Negative Response\"\u001b[0m\u001b[0;34m]\u001b[0m\u001b[0;34m,\u001b[0m \u001b[0mstacked\u001b[0m\u001b[0;34m=\u001b[0m\u001b[0mTrue\u001b[0m\u001b[0;34m)\u001b[0m\u001b[0;34m\u001b[0m\u001b[0m\n\u001b[0m\u001b[1;32m     10\u001b[0m     \u001b[0max1j\u001b[0m\u001b[0;34m.\u001b[0m\u001b[0mlegend\u001b[0m\u001b[0;34m(\u001b[0m\u001b[0;34m)\u001b[0m\u001b[0;34m\u001b[0m\u001b[0m\n\u001b[1;32m     11\u001b[0m     \u001b[0max1j\u001b[0m\u001b[0;34m.\u001b[0m\u001b[0mset_title\u001b[0m\u001b[0;34m(\u001b[0m\u001b[0mindicator\u001b[0m\u001b[0;34m)\u001b[0m\u001b[0;34m\u001b[0m\u001b[0m\n",
      "\u001b[0;31mTypeError\u001b[0m: 'AxesSubplot' object has no attribute '__getitem__'"
     ]
    },
    {
     "data": {
      "image/png": "[encoded data removed]",
      "text/plain": [
       "<matplotlib.figure.Figure at 0x10b60d8d0>"
      ]
     },
     "metadata": {},
     "output_type": "display_data"
    }
   ],
   "source": [
    "fig1, axes1 = plt.subplots(2,2)\n",
    "\n",
    "for j, variable in enumerate(CATEGORICAL):\n",
    "    ax1 = axes1[j/2,j%2]\n",
    "    functional = df_new[df_new['status_group']=='functional']['funder'].tolist()\n",
    "    non_functional = df_new[df_new['status_group']=='non functional']['funder'].tolist()\n",
    "    needs_repair = df_new[df_new['status_group']=='functional needs repair']['funder'].tolist()\n",
    "    #labels = [\"Positive Response\", \"Negative Response\"]\n",
    "    ax1[j/3,j%3].hist([pos_resp,neg_resp], label=[\"Positive Response\",\"Negative Response\"], stacked=True)\n",
    "    ax1j.legend()\n",
    "    ax1j.set_title(indicator)"
   ]
  },
  {
   "cell_type": "markdown",
   "metadata": {},
   "source": [
    "##Splitting the training and testing data\n"
   ]
  },
  {
   "cell_type": "code",
   "execution_count": 16,
   "metadata": {
    "collapsed": false
   },
   "outputs": [],
   "source": [
    "from sklearn.cross_validation import train_test_split\n",
    "train, test = train_test_split(xrange(df_new.shape[0]), train_size=0.7)\n",
    "mask=np.ones(df_new.shape[0])\n",
    "mask[train]=1\n",
    "mask[test]=0\n",
    "mask = (mask==1)"
   ]
  },
  {
   "cell_type": "markdown",
   "metadata": {},
   "source": [
    "##Standardize\n",
    "Now standardize our quantitative variables so they can be compared. These variables are amount_tsh, gps_height, population, and date_recorded_offset_days."
   ]
  },
  {
   "cell_type": "code",
   "execution_count": 17,
   "metadata": {
    "collapsed": false
   },
   "outputs": [
    {
     "data": {
      "text/html": [
       "<div>\n",
       "<table border=\"1\" class=\"dataframe\">\n",
       "  <thead>\n",
       "    <tr style=\"text-align: right;\">\n",
       "      <th></th>\n",
       "      <th>amount_tsh</th>\n",
       "      <th>gps_height</th>\n",
       "      <th>population</th>\n",
       "      <th>date_recorded_offset_days</th>\n",
       "    </tr>\n",
       "  </thead>\n",
       "  <tbody>\n",
       "    <tr>\n",
       "      <th>0</th>\n",
       "      <td>1.680016</td>\n",
       "      <td>1.049346</td>\n",
       "      <td>-0.156187</td>\n",
       "      <td>1.134655</td>\n",
       "    </tr>\n",
       "    <tr>\n",
       "      <th>1</th>\n",
       "      <td>-0.098577</td>\n",
       "      <td>1.062359</td>\n",
       "      <td>0.213970</td>\n",
       "      <td>-1.023645</td>\n",
       "    </tr>\n",
       "    <tr>\n",
       "      <th>2</th>\n",
       "      <td>-0.091166</td>\n",
       "      <td>0.031464</td>\n",
       "      <td>0.149030</td>\n",
       "      <td>-0.996779</td>\n",
       "    </tr>\n",
       "    <tr>\n",
       "      <th>3</th>\n",
       "      <td>-0.098577</td>\n",
       "      <td>-0.580133</td>\n",
       "      <td>-0.266584</td>\n",
       "      <td>-0.913193</td>\n",
       "    </tr>\n",
       "    <tr>\n",
       "      <th>4</th>\n",
       "      <td>-0.098577</td>\n",
       "      <td>-0.960393</td>\n",
       "      <td>-0.392134</td>\n",
       "      <td>0.773446</td>\n",
       "    </tr>\n",
       "  </tbody>\n",
       "</table>\n",
       "</div>"
      ],
      "text/plain": [
       "   amount_tsh  gps_height  population  date_recorded_offset_days\n",
       "0    1.680016    1.049346   -0.156187                   1.134655\n",
       "1   -0.098577    1.062359    0.213970                  -1.023645\n",
       "2   -0.091166    0.031464    0.149030                  -0.996779\n",
       "3   -0.098577   -0.580133   -0.266584                  -0.913193\n",
       "4   -0.098577   -0.960393   -0.392134                   0.773446"
      ]
     },
     "execution_count": 17,
     "metadata": {},
     "output_type": "execute_result"
    }
   ],
   "source": [
    "from sklearn import preprocessing as prepr\n",
    "STANDARDIZABLE = [u'amount_tsh', u'gps_height', u'population', u'date_recorded_offset_days']\n",
    "scaler = prepr.StandardScaler().fit(df_new[mask][STANDARDIZABLE])\n",
    "df_new[STANDARDIZABLE] = scaler.transform(df_new[STANDARDIZABLE])\n",
    "df_new[STANDARDIZABLE].head()"
   ]
  },
  {
   "cell_type": "markdown",
   "metadata": {},
   "source": [
    "# Models\n",
    "\n",
    "## Regression\n",
    "\n",
    "Since the outcome variable is categorical, we run a multinomial logistic regression."
   ]
  },
  {
   "cell_type": "code",
   "execution_count": null,
   "metadata": {
    "collapsed": true
   },
   "outputs": [],
   "source": []
  },
  {
   "cell_type": "code",
   "execution_count": null,
   "metadata": {
    "collapsed": true
   },
   "outputs": [],
   "source": []
  },
  {
   "cell_type": "markdown",
   "metadata": {},
   "source": [
    "# Clustering"
   ]
  },
  {
   "cell_type": "code",
   "execution_count": null,
   "metadata": {
    "collapsed": true
   },
   "outputs": [],
   "source": []
  },
  {
   "cell_type": "code",
   "execution_count": null,
   "metadata": {
    "collapsed": true
   },
   "outputs": [],
   "source": []
  },
  {
   "cell_type": "code",
   "execution_count": null,
   "metadata": {
    "collapsed": true
   },
   "outputs": [],
   "source": []
  },
  {
   "cell_type": "code",
   "execution_count": null,
   "metadata": {
    "collapsed": true
   },
   "outputs": [],
   "source": []
  }
 ],
 "metadata": {
  "kernelspec": {
   "display_name": "Python 2",
   "language": "python",
   "name": "python2"
  },
  "language_info": {
   "codemirror_mode": {
    "name": "ipython",
    "version": 2
   },
   "file_extension": ".py",
   "mimetype": "text/x-python",
   "name": "python",
   "nbconvert_exporter": "python",
   "pygments_lexer": "ipython2",
   "version": "2.7.10"
  }
 },
 "nbformat": 4,
 "nbformat_minor": 0
}
