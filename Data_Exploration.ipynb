{
 "cells": [
  {
   "cell_type": "markdown",
   "metadata": {},
   "source": [
    "# Predicting the Status of Wells Across Tanzania\n",
    "\n",
    "Exploration done by WellWatchers Avi Saraf, Lily Zhang, and Cindy Zhao."
   ]
  },
  {
   "cell_type": "code",
   "execution_count": 1,
   "metadata": {
    "collapsed": true
   },
   "outputs": [],
   "source": [
    "import pandas as pd\n",
    "import numpy as np"
   ]
  },
  {
   "cell_type": "markdown",
   "metadata": {},
   "source": [
    "###Data preparation"
   ]
  },
  {
   "cell_type": "code",
   "execution_count": 2,
   "metadata": {
    "collapsed": true
   },
   "outputs": [],
   "source": [
    "df_values = pd.read_csv(\"clean_training_set_values.csv\")\n",
    "df_labels = pd.read_csv(\"training_set_labels.csv\")"
   ]
  },
  {
   "cell_type": "code",
   "execution_count": 41,
   "metadata": {
    "collapsed": true
   },
   "outputs": [],
   "source": [
    "#merge the features (i.e. values) and the labels into one DataFrame\n",
    "df = pd.merge(df_values, df_labels, on=\"id\")"
   ]
  },
  {
   "cell_type": "code",
   "execution_count": 67,
   "metadata": {
    "collapsed": false
   },
   "outputs": [
    {
     "data": {
      "text/html": [
       "<div>\n",
       "<table border=\"1\" class=\"dataframe\">\n",
       "  <thead>\n",
       "    <tr style=\"text-align: right;\">\n",
       "      <th></th>\n",
       "      <th>id</th>\n",
       "      <th>amount_tsh</th>\n",
       "      <th>funder</th>\n",
       "      <th>gps_height</th>\n",
       "      <th>installer</th>\n",
       "      <th>longitude</th>\n",
       "      <th>latitude</th>\n",
       "      <th>basin</th>\n",
       "      <th>subvillage</th>\n",
       "      <th>region</th>\n",
       "      <th>...</th>\n",
       "      <th>quantity</th>\n",
       "      <th>quantity_group</th>\n",
       "      <th>source</th>\n",
       "      <th>source_type</th>\n",
       "      <th>source_class</th>\n",
       "      <th>waterpoint_type</th>\n",
       "      <th>waterpoint_type_group</th>\n",
       "      <th>date_recorded_offset_days</th>\n",
       "      <th>date_recorded_month</th>\n",
       "      <th>status_group</th>\n",
       "    </tr>\n",
       "  </thead>\n",
       "  <tbody>\n",
       "    <tr>\n",
       "      <th>0</th>\n",
       "      <td>69572</td>\n",
       "      <td>6000</td>\n",
       "      <td>Other</td>\n",
       "      <td>1390</td>\n",
       "      <td>Other</td>\n",
       "      <td>34.938093</td>\n",
       "      <td>-9.856322</td>\n",
       "      <td>Lake Nyasa</td>\n",
       "      <td>Mnyusi B</td>\n",
       "      <td>Iringa</td>\n",
       "      <td>...</td>\n",
       "      <td>enough</td>\n",
       "      <td>enough</td>\n",
       "      <td>spring</td>\n",
       "      <td>spring</td>\n",
       "      <td>groundwater</td>\n",
       "      <td>communal standpipe</td>\n",
       "      <td>communal standpipe</td>\n",
       "      <td>1024</td>\n",
       "      <td>Mar</td>\n",
       "      <td>functional</td>\n",
       "    </tr>\n",
       "    <tr>\n",
       "      <th>1</th>\n",
       "      <td>8776</td>\n",
       "      <td>0</td>\n",
       "      <td>Other</td>\n",
       "      <td>1399</td>\n",
       "      <td>Other</td>\n",
       "      <td>34.698766</td>\n",
       "      <td>-2.147466</td>\n",
       "      <td>Lake Victoria</td>\n",
       "      <td>Nyamara</td>\n",
       "      <td>Mara</td>\n",
       "      <td>...</td>\n",
       "      <td>insufficient</td>\n",
       "      <td>insufficient</td>\n",
       "      <td>rainwater harvesting</td>\n",
       "      <td>rainwater harvesting</td>\n",
       "      <td>surface</td>\n",
       "      <td>communal standpipe</td>\n",
       "      <td>communal standpipe</td>\n",
       "      <td>301</td>\n",
       "      <td>Mar</td>\n",
       "      <td>functional</td>\n",
       "    </tr>\n",
       "    <tr>\n",
       "      <th>2</th>\n",
       "      <td>34310</td>\n",
       "      <td>25</td>\n",
       "      <td>Other</td>\n",
       "      <td>686</td>\n",
       "      <td>Other</td>\n",
       "      <td>37.460664</td>\n",
       "      <td>-3.821329</td>\n",
       "      <td>Pangani</td>\n",
       "      <td>Majengo</td>\n",
       "      <td>Manyara</td>\n",
       "      <td>...</td>\n",
       "      <td>enough</td>\n",
       "      <td>enough</td>\n",
       "      <td>dam</td>\n",
       "      <td>dam</td>\n",
       "      <td>surface</td>\n",
       "      <td>communal standpipe multiple</td>\n",
       "      <td>communal standpipe</td>\n",
       "      <td>310</td>\n",
       "      <td>Feb</td>\n",
       "      <td>functional</td>\n",
       "    </tr>\n",
       "    <tr>\n",
       "      <th>3</th>\n",
       "      <td>67743</td>\n",
       "      <td>0</td>\n",
       "      <td>Unicef</td>\n",
       "      <td>263</td>\n",
       "      <td>Other</td>\n",
       "      <td>38.486161</td>\n",
       "      <td>-11.155298</td>\n",
       "      <td>Ruvuma / Southern Coast</td>\n",
       "      <td>Mahakamani</td>\n",
       "      <td>Mtwara</td>\n",
       "      <td>...</td>\n",
       "      <td>dry</td>\n",
       "      <td>dry</td>\n",
       "      <td>machine dbh</td>\n",
       "      <td>borehole</td>\n",
       "      <td>groundwater</td>\n",
       "      <td>communal standpipe multiple</td>\n",
       "      <td>communal standpipe</td>\n",
       "      <td>338</td>\n",
       "      <td>Jan</td>\n",
       "      <td>non functional</td>\n",
       "    </tr>\n",
       "    <tr>\n",
       "      <th>4</th>\n",
       "      <td>19728</td>\n",
       "      <td>0</td>\n",
       "      <td>Other</td>\n",
       "      <td>0</td>\n",
       "      <td>Other</td>\n",
       "      <td>31.130847</td>\n",
       "      <td>-1.825359</td>\n",
       "      <td>Lake Victoria</td>\n",
       "      <td>Kyanyamisa</td>\n",
       "      <td>Kagera</td>\n",
       "      <td>...</td>\n",
       "      <td>seasonal</td>\n",
       "      <td>seasonal</td>\n",
       "      <td>rainwater harvesting</td>\n",
       "      <td>rainwater harvesting</td>\n",
       "      <td>surface</td>\n",
       "      <td>communal standpipe</td>\n",
       "      <td>communal standpipe</td>\n",
       "      <td>903</td>\n",
       "      <td>Jul</td>\n",
       "      <td>functional</td>\n",
       "    </tr>\n",
       "  </tbody>\n",
       "</table>\n",
       "<p>5 rows × 34 columns</p>\n",
       "</div>"
      ],
      "text/plain": [
       "      id  amount_tsh  funder  gps_height installer  longitude   latitude  \\\n",
       "0  69572        6000   Other        1390     Other  34.938093  -9.856322   \n",
       "1   8776           0   Other        1399     Other  34.698766  -2.147466   \n",
       "2  34310          25   Other         686     Other  37.460664  -3.821329   \n",
       "3  67743           0  Unicef         263     Other  38.486161 -11.155298   \n",
       "4  19728           0   Other           0     Other  31.130847  -1.825359   \n",
       "\n",
       "                     basin  subvillage   region       ...            quantity  \\\n",
       "0               Lake Nyasa    Mnyusi B   Iringa       ...              enough   \n",
       "1            Lake Victoria     Nyamara     Mara       ...        insufficient   \n",
       "2                  Pangani     Majengo  Manyara       ...              enough   \n",
       "3  Ruvuma / Southern Coast  Mahakamani   Mtwara       ...                 dry   \n",
       "4            Lake Victoria  Kyanyamisa   Kagera       ...            seasonal   \n",
       "\n",
       "  quantity_group                source           source_type source_class  \\\n",
       "0         enough                spring                spring  groundwater   \n",
       "1   insufficient  rainwater harvesting  rainwater harvesting      surface   \n",
       "2         enough                   dam                   dam      surface   \n",
       "3            dry           machine dbh              borehole  groundwater   \n",
       "4       seasonal  rainwater harvesting  rainwater harvesting      surface   \n",
       "\n",
       "               waterpoint_type waterpoint_type_group  \\\n",
       "0           communal standpipe    communal standpipe   \n",
       "1           communal standpipe    communal standpipe   \n",
       "2  communal standpipe multiple    communal standpipe   \n",
       "3  communal standpipe multiple    communal standpipe   \n",
       "4           communal standpipe    communal standpipe   \n",
       "\n",
       "  date_recorded_offset_days date_recorded_month    status_group  \n",
       "0                      1024                 Mar      functional  \n",
       "1                       301                 Mar      functional  \n",
       "2                       310                 Feb      functional  \n",
       "3                       338                 Jan  non functional  \n",
       "4                       903                 Jul      functional  \n",
       "\n",
       "[5 rows x 34 columns]"
      ]
     },
     "execution_count": 67,
     "metadata": {},
     "output_type": "execute_result"
    }
   ],
   "source": [
    "df.head()"
   ]
  },
  {
   "cell_type": "markdown",
   "metadata": {},
   "source": [
    "#Categorical Features\n",
    "\n",
    "We have the following categorical variables:\n",
    "- funder\n",
    "- installer\n",
    "- basin\n",
    "- subvillage\n",
    "- region\n",
    "- scheme_management\n",
    "- management\n",
    "- management_group\n",
    "- public_meeting (T/F)\n",
    "- permit (T/F)\n",
    "- extraction_type\n",
    "- extraction_type_group\n",
    "- extraction_type_class\n",
    "- payment\n",
    "- payment_type\n",
    "- water_quality\n",
    "- quality_group\n",
    "- waterpoint_type\n",
    "- waterpoint_type_group\n",
    "\n",
    "Here we see the unique values under the columns with categorical values."
   ]
  },
  {
   "cell_type": "markdown",
   "metadata": {},
   "source": [
    "##Redundancies\n",
    "We see that some of the columns describe the same feature but have slightly different sets of values. This is particularly the case with features that also have a corresponding '_ _group_' column as well. For now, we will stick with the non-gropu features because they are more specific."
   ]
  },
  {
   "cell_type": "code",
   "execution_count": 66,
   "metadata": {
    "collapsed": false
   },
   "outputs": [
    {
     "name": "stdout",
     "output_type": "stream",
     "text": [
      "['gravity' 'submersible' 'swn 80' 'nira/tanira' 'india mark ii' 'other'\n",
      " 'ksb' 'mono' 'windmill' 'afridev' 'other - rope pump' 'india mark iii'\n",
      " 'other - swn 81' 'other - play pump' 'cemo' 'climax' 'walimi']\n",
      "['gravity' 'submersible' 'swn 80' 'nira/tanira' 'india mark ii' 'other'\n",
      " 'mono' 'wind-powered' 'afridev' 'rope pump' 'india mark iii'\n",
      " 'other handpump' 'other motorpump']\n",
      "['gravity' 'submersible' 'handpump' 'other' 'motorpump' 'wind-powered'\n",
      " 'rope pump']\n"
     ]
    }
   ],
   "source": [
    "print pd.Series(df.extraction_type.ravel()).unique()\n",
    "#less specific\n",
    "print pd.Series(df.extraction_type_group.ravel()).unique()\n",
    "print pd.Series(df.extraction_type_class.ravel()).unique()"
   ]
  },
  {
   "cell_type": "code",
   "execution_count": 65,
   "metadata": {
    "collapsed": false
   },
   "outputs": [
    {
     "name": "stdout",
     "output_type": "stream",
     "text": [
      "['pay annually' 'never pay' 'pay per bucket' 'unknown'\n",
      " 'pay when scheme fails' 'other' 'pay monthly']\n",
      "['annually' 'never pay' 'per bucket' 'unknown' 'on failure' 'other'\n",
      " 'monthly']\n"
     ]
    }
   ],
   "source": [
    "#equivalent\n",
    "print pd.Series(df.payment.ravel()).unique()\n",
    "print pd.Series(df.payment_type.ravel()).unique()"
   ]
  },
  {
   "cell_type": "code",
   "execution_count": 33,
   "metadata": {
    "collapsed": false
   },
   "outputs": [
    {
     "name": "stdout",
     "output_type": "stream",
     "text": [
      "['communal standpipe' 'communal standpipe multiple' 'hand pump' 'other'\n",
      " 'improved spring' 'cattle trough' 'dam']\n",
      "['communal standpipe' 'hand pump' 'other' 'improved spring' 'cattle trough'\n",
      " 'dam']\n"
     ]
    }
   ],
   "source": [
    "#the difference here is the addition of 'communal standpipe multiple' in waterpoint_type\n",
    "print pd.Series(df.waterpoint_type.ravel()).unique()\n",
    "#less specific\n",
    "print pd.Series(df.waterpoint_type_group.ravel()).unique()"
   ]
  },
  {
   "cell_type": "code",
   "execution_count": 31,
   "metadata": {
    "collapsed": false
   },
   "outputs": [
    {
     "name": "stdout",
     "output_type": "stream",
     "text": [
      "['soft' 'salty' 'milky' 'unknown' 'fluoride' 'coloured' 'salty abandoned'\n",
      " 'fluoride abandoned']\n",
      "['good' 'salty' 'milky' 'unknown' 'fluoride' 'colored']\n"
     ]
    }
   ],
   "source": [
    "print pd.Series(df.water_quality.ravel()).unique()\n",
    "#less specific\n",
    "print pd.Series(df.quality_group.ravel()).unique()"
   ]
  },
  {
   "cell_type": "code",
   "execution_count": 32,
   "metadata": {
    "collapsed": false
   },
   "outputs": [
    {
     "name": "stdout",
     "output_type": "stream",
     "text": [
      "['spring' 'rainwater harvesting' 'dam' 'borehole' 'other' 'shallow well'\n",
      " 'river/lake']\n",
      "['spring' 'rainwater harvesting' 'dam' 'machine dbh' 'other' 'shallow well'\n",
      " 'river' 'hand dtw' 'lake' 'unknown']\n",
      "['groundwater' 'surface' 'unknown']\n"
     ]
    }
   ],
   "source": [
    "#less specific\n",
    "#'borehole' includes 'machine dbh' and 'hand dtw'\n",
    "#'river/lake' includes 'river' and 'lake'\n",
    "#'other' includes 'other' and 'unknown'\n",
    "print pd.Series(df.source_type.ravel()).unique()\n",
    "print pd.Series(df.source.values.ravel()).unique()\n",
    "#source and source_type are nested within source_class\n",
    "print pd.Series(df.source_class.values.ravel()).unique()"
   ]
  },
  {
   "cell_type": "code",
   "execution_count": 43,
   "metadata": {
    "collapsed": false
   },
   "outputs": [
    {
     "name": "stdout",
     "output_type": "stream",
     "text": [
      "['vwc' 'wug' 'other' 'private operator' 'water board' 'wua' 'company'\n",
      " 'water authority' 'parastatal' 'unknown' 'other - school' 'trust']\n",
      "['user-group' 'other' 'commercial' 'parastatal' 'unknown']\n"
     ]
    }
   ],
   "source": [
    "#management is nested within management_group\n",
    "print pd.Series(df.management.ravel()).unique()\n",
    "print pd.Series(df.management_group.ravel()).unique()"
   ]
  },
  {
   "cell_type": "markdown",
   "metadata": {},
   "source": [
    "We see that some of these features are redundant, so we delete one of the columns of these repeats. Regarding the features/feature_group label pairs, there is a nesting structure but it is so slight that we just delete one of the columns; otherwise, we would most likely run into problems of collinearity. We have two new dataframes, one with only the feature_group labels (less specific), and one with only the feature labels (more specific). We will try our regression on the more specific df_new but keep df_new1 just in case."
   ]
  },
  {
   "cell_type": "code",
   "execution_count": 70,
   "metadata": {
    "collapsed": false
   },
   "outputs": [],
   "source": [
    "df_new = df.drop(['quantity_group','extraction_type_group','waterpoint_type_group','quality_group','source_type','payment'], axis=1)\n",
    "df_new1 = df.drop(['quantity_group','extraction_type','waterpoint_type','quality_group','source','payment'], axis=1)"
   ]
  },
  {
   "cell_type": "markdown",
   "metadata": {},
   "source": [
    "##Nestings\n",
    "\n",
    "In df_new, we know that:\n",
    "- management is nested within management_group\n",
    "- source is nested within source_class\n",
    "- extraction is nested within extraction_type_class\n",
    "- subvillage is nested within region"
   ]
  },
  {
   "cell_type": "markdown",
   "metadata": {},
   "source": [
    "##Grouping the types of categorical variables\n",
    "The features dealing with the management of the well include:\n",
    "- funder\n",
    "- installer\n",
    "- scheme_management\n",
    "- management/management_group\n",
    "- payment_type\n",
    "- permit (T/F)\n",
    "\n",
    "The features dealing with the creation of the well include:\n",
    "- extraction/extraction_type_class\n",
    "- waterpoint_type\n",
    "\n",
    "The features dealing with time include: \n",
    "- construction_year\n",
    "- date_recorded_offset_days (int; how long ago it was constructed, from the date recorded)\n",
    "- date_recorded_month\n",
    "\n",
    "The features dealing with natural properties include:\n",
    "- water_quality\n",
    "- source/source_class\n",
    "- amount_tsh\n",
    "- quantity\n",
    "- basin\n",
    "\n",
    "The features dealing with the community using the well and location include:\n",
    "- subvillage\n",
    "- region\n",
    "- population\n",
    "- public_meeting (T/F)\n",
    "- gps_height\n",
    "- longitude\n",
    "- latitude"
   ]
  },
  {
   "cell_type": "code",
   "execution_count": 76,
   "metadata": {
    "collapsed": false,
    "scrolled": true
   },
   "outputs": [
    {
     "data": {
      "text/plain": [
       "Index([u'id', u'amount_tsh', u'funder', u'gps_height', u'installer',\n",
       "       u'longitude', u'latitude', u'basin', u'subvillage', u'region',\n",
       "       u'population', u'public_meeting', u'scheme_management', u'permit',\n",
       "       u'construction_year', u'extraction_type', u'extraction_type_class',\n",
       "       u'management', u'management_group', u'payment_type', u'water_quality',\n",
       "       u'quantity', u'source', u'source_class', u'waterpoint_type',\n",
       "       u'date_recorded_offset_days', u'date_recorded_month', u'status_group'],\n",
       "      dtype='object')"
      ]
     },
     "execution_count": 76,
     "metadata": {},
     "output_type": "execute_result"
    }
   ],
   "source": [
    "df_new.columns"
   ]
  }
 ],
 "metadata": {
  "kernelspec": {
   "display_name": "Python 2",
   "language": "python",
   "name": "python2"
  },
  "language_info": {
   "codemirror_mode": {
    "name": "ipython",
    "version": 2
   },
   "file_extension": ".py",
   "mimetype": "text/x-python",
   "name": "python",
   "nbconvert_exporter": "python",
   "pygments_lexer": "ipython2",
   "version": "2.7.10"
  }
 },
 "nbformat": 4,
 "nbformat_minor": 0
}
